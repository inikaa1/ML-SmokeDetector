{
  "nbformat": 4,
  "nbformat_minor": 0,
  "metadata": {
    "colab": {
      "provenance": [],
      "collapsed_sections": []
    },
    "kernelspec": {
      "name": "python3",
      "display_name": "Python 3"
    },
    "language_info": {
      "name": "python"
    }
  },
  "cells": [
    {
      "cell_type": "markdown",
      "source": [
        "### Importing Libraries"
      ],
      "metadata": {
        "id": "_2kisPjB4UPa"
      }
    },
    {
      "cell_type": "code",
      "execution_count": 43,
      "metadata": {
        "id": "gFsG1rClfplV"
      },
      "outputs": [],
      "source": [
        "import pandas as pd\n",
        "import numpy as np\n",
        "import seaborn as sns\n",
        "import matplotlib.pyplot as plt"
      ]
    },
    {
      "cell_type": "markdown",
      "source": [
        "### Reading Dataset"
      ],
      "metadata": {
        "id": "_7bl9jU44oEm"
      }
    },
    {
      "cell_type": "code",
      "source": [
        "df = pd.read_csv('smoke_detection_iot.csv', index_col= 0)\n",
        "df.head()\n"
      ],
      "metadata": {
        "colab": {
          "base_uri": "https://localhost:8080/",
          "height": 288
        },
        "id": "yNqVRj-Wu8yp",
        "outputId": "6ffccd5e-b577-49cf-8b25-94ad72d68e91"
      },
      "execution_count": 44,
      "outputs": [
        {
          "output_type": "execute_result",
          "data": {
            "text/plain": [
              "          UTC  Temperature[C]  Humidity[%]  TVOC[ppb]  eCO2[ppm]  Raw H2  \\\n",
              "0  1654733331          20.000        57.36          0        400   12306   \n",
              "1  1654733332          20.015        56.67          0        400   12345   \n",
              "2  1654733333          20.029        55.96          0        400   12374   \n",
              "3  1654733334          20.044        55.28          0        400   12390   \n",
              "4  1654733335          20.059        54.69          0        400   12403   \n",
              "\n",
              "   Raw Ethanol  Pressure[hPa]  PM1.0  PM2.5  NC0.5  NC1.0  NC2.5  CNT  \\\n",
              "0        18520        939.735    0.0    0.0    0.0    0.0    0.0    0   \n",
              "1        18651        939.744    0.0    0.0    0.0    0.0    0.0    1   \n",
              "2        18764        939.738    0.0    0.0    0.0    0.0    0.0    2   \n",
              "3        18849        939.736    0.0    0.0    0.0    0.0    0.0    3   \n",
              "4        18921        939.744    0.0    0.0    0.0    0.0    0.0    4   \n",
              "\n",
              "   Fire Alarm  \n",
              "0           0  \n",
              "1           0  \n",
              "2           0  \n",
              "3           0  \n",
              "4           0  "
            ],
            "text/html": [
              "\n",
              "  <div id=\"df-571ad02a-eed2-4c25-8919-679a63b38951\">\n",
              "    <div class=\"colab-df-container\">\n",
              "      <div>\n",
              "<style scoped>\n",
              "    .dataframe tbody tr th:only-of-type {\n",
              "        vertical-align: middle;\n",
              "    }\n",
              "\n",
              "    .dataframe tbody tr th {\n",
              "        vertical-align: top;\n",
              "    }\n",
              "\n",
              "    .dataframe thead th {\n",
              "        text-align: right;\n",
              "    }\n",
              "</style>\n",
              "<table border=\"1\" class=\"dataframe\">\n",
              "  <thead>\n",
              "    <tr style=\"text-align: right;\">\n",
              "      <th></th>\n",
              "      <th>UTC</th>\n",
              "      <th>Temperature[C]</th>\n",
              "      <th>Humidity[%]</th>\n",
              "      <th>TVOC[ppb]</th>\n",
              "      <th>eCO2[ppm]</th>\n",
              "      <th>Raw H2</th>\n",
              "      <th>Raw Ethanol</th>\n",
              "      <th>Pressure[hPa]</th>\n",
              "      <th>PM1.0</th>\n",
              "      <th>PM2.5</th>\n",
              "      <th>NC0.5</th>\n",
              "      <th>NC1.0</th>\n",
              "      <th>NC2.5</th>\n",
              "      <th>CNT</th>\n",
              "      <th>Fire Alarm</th>\n",
              "    </tr>\n",
              "  </thead>\n",
              "  <tbody>\n",
              "    <tr>\n",
              "      <th>0</th>\n",
              "      <td>1654733331</td>\n",
              "      <td>20.000</td>\n",
              "      <td>57.36</td>\n",
              "      <td>0</td>\n",
              "      <td>400</td>\n",
              "      <td>12306</td>\n",
              "      <td>18520</td>\n",
              "      <td>939.735</td>\n",
              "      <td>0.0</td>\n",
              "      <td>0.0</td>\n",
              "      <td>0.0</td>\n",
              "      <td>0.0</td>\n",
              "      <td>0.0</td>\n",
              "      <td>0</td>\n",
              "      <td>0</td>\n",
              "    </tr>\n",
              "    <tr>\n",
              "      <th>1</th>\n",
              "      <td>1654733332</td>\n",
              "      <td>20.015</td>\n",
              "      <td>56.67</td>\n",
              "      <td>0</td>\n",
              "      <td>400</td>\n",
              "      <td>12345</td>\n",
              "      <td>18651</td>\n",
              "      <td>939.744</td>\n",
              "      <td>0.0</td>\n",
              "      <td>0.0</td>\n",
              "      <td>0.0</td>\n",
              "      <td>0.0</td>\n",
              "      <td>0.0</td>\n",
              "      <td>1</td>\n",
              "      <td>0</td>\n",
              "    </tr>\n",
              "    <tr>\n",
              "      <th>2</th>\n",
              "      <td>1654733333</td>\n",
              "      <td>20.029</td>\n",
              "      <td>55.96</td>\n",
              "      <td>0</td>\n",
              "      <td>400</td>\n",
              "      <td>12374</td>\n",
              "      <td>18764</td>\n",
              "      <td>939.738</td>\n",
              "      <td>0.0</td>\n",
              "      <td>0.0</td>\n",
              "      <td>0.0</td>\n",
              "      <td>0.0</td>\n",
              "      <td>0.0</td>\n",
              "      <td>2</td>\n",
              "      <td>0</td>\n",
              "    </tr>\n",
              "    <tr>\n",
              "      <th>3</th>\n",
              "      <td>1654733334</td>\n",
              "      <td>20.044</td>\n",
              "      <td>55.28</td>\n",
              "      <td>0</td>\n",
              "      <td>400</td>\n",
              "      <td>12390</td>\n",
              "      <td>18849</td>\n",
              "      <td>939.736</td>\n",
              "      <td>0.0</td>\n",
              "      <td>0.0</td>\n",
              "      <td>0.0</td>\n",
              "      <td>0.0</td>\n",
              "      <td>0.0</td>\n",
              "      <td>3</td>\n",
              "      <td>0</td>\n",
              "    </tr>\n",
              "    <tr>\n",
              "      <th>4</th>\n",
              "      <td>1654733335</td>\n",
              "      <td>20.059</td>\n",
              "      <td>54.69</td>\n",
              "      <td>0</td>\n",
              "      <td>400</td>\n",
              "      <td>12403</td>\n",
              "      <td>18921</td>\n",
              "      <td>939.744</td>\n",
              "      <td>0.0</td>\n",
              "      <td>0.0</td>\n",
              "      <td>0.0</td>\n",
              "      <td>0.0</td>\n",
              "      <td>0.0</td>\n",
              "      <td>4</td>\n",
              "      <td>0</td>\n",
              "    </tr>\n",
              "  </tbody>\n",
              "</table>\n",
              "</div>\n",
              "      <button class=\"colab-df-convert\" onclick=\"convertToInteractive('df-571ad02a-eed2-4c25-8919-679a63b38951')\"\n",
              "              title=\"Convert this dataframe to an interactive table.\"\n",
              "              style=\"display:none;\">\n",
              "        \n",
              "  <svg xmlns=\"http://www.w3.org/2000/svg\" height=\"24px\"viewBox=\"0 0 24 24\"\n",
              "       width=\"24px\">\n",
              "    <path d=\"M0 0h24v24H0V0z\" fill=\"none\"/>\n",
              "    <path d=\"M18.56 5.44l.94 2.06.94-2.06 2.06-.94-2.06-.94-.94-2.06-.94 2.06-2.06.94zm-11 1L8.5 8.5l.94-2.06 2.06-.94-2.06-.94L8.5 2.5l-.94 2.06-2.06.94zm10 10l.94 2.06.94-2.06 2.06-.94-2.06-.94-.94-2.06-.94 2.06-2.06.94z\"/><path d=\"M17.41 7.96l-1.37-1.37c-.4-.4-.92-.59-1.43-.59-.52 0-1.04.2-1.43.59L10.3 9.45l-7.72 7.72c-.78.78-.78 2.05 0 2.83L4 21.41c.39.39.9.59 1.41.59.51 0 1.02-.2 1.41-.59l7.78-7.78 2.81-2.81c.8-.78.8-2.07 0-2.86zM5.41 20L4 18.59l7.72-7.72 1.47 1.35L5.41 20z\"/>\n",
              "  </svg>\n",
              "      </button>\n",
              "      \n",
              "  <style>\n",
              "    .colab-df-container {\n",
              "      display:flex;\n",
              "      flex-wrap:wrap;\n",
              "      gap: 12px;\n",
              "    }\n",
              "\n",
              "    .colab-df-convert {\n",
              "      background-color: #E8F0FE;\n",
              "      border: none;\n",
              "      border-radius: 50%;\n",
              "      cursor: pointer;\n",
              "      display: none;\n",
              "      fill: #1967D2;\n",
              "      height: 32px;\n",
              "      padding: 0 0 0 0;\n",
              "      width: 32px;\n",
              "    }\n",
              "\n",
              "    .colab-df-convert:hover {\n",
              "      background-color: #E2EBFA;\n",
              "      box-shadow: 0px 1px 2px rgba(60, 64, 67, 0.3), 0px 1px 3px 1px rgba(60, 64, 67, 0.15);\n",
              "      fill: #174EA6;\n",
              "    }\n",
              "\n",
              "    [theme=dark] .colab-df-convert {\n",
              "      background-color: #3B4455;\n",
              "      fill: #D2E3FC;\n",
              "    }\n",
              "\n",
              "    [theme=dark] .colab-df-convert:hover {\n",
              "      background-color: #434B5C;\n",
              "      box-shadow: 0px 1px 3px 1px rgba(0, 0, 0, 0.15);\n",
              "      filter: drop-shadow(0px 1px 2px rgba(0, 0, 0, 0.3));\n",
              "      fill: #FFFFFF;\n",
              "    }\n",
              "  </style>\n",
              "\n",
              "      <script>\n",
              "        const buttonEl =\n",
              "          document.querySelector('#df-571ad02a-eed2-4c25-8919-679a63b38951 button.colab-df-convert');\n",
              "        buttonEl.style.display =\n",
              "          google.colab.kernel.accessAllowed ? 'block' : 'none';\n",
              "\n",
              "        async function convertToInteractive(key) {\n",
              "          const element = document.querySelector('#df-571ad02a-eed2-4c25-8919-679a63b38951');\n",
              "          const dataTable =\n",
              "            await google.colab.kernel.invokeFunction('convertToInteractive',\n",
              "                                                     [key], {});\n",
              "          if (!dataTable) return;\n",
              "\n",
              "          const docLinkHtml = 'Like what you see? Visit the ' +\n",
              "            '<a target=\"_blank\" href=https://colab.research.google.com/notebooks/data_table.ipynb>data table notebook</a>'\n",
              "            + ' to learn more about interactive tables.';\n",
              "          element.innerHTML = '';\n",
              "          dataTable['output_type'] = 'display_data';\n",
              "          await google.colab.output.renderOutput(dataTable, element);\n",
              "          const docLink = document.createElement('div');\n",
              "          docLink.innerHTML = docLinkHtml;\n",
              "          element.appendChild(docLink);\n",
              "        }\n",
              "      </script>\n",
              "    </div>\n",
              "  </div>\n",
              "  "
            ]
          },
          "metadata": {},
          "execution_count": 44
        }
      ]
    },
    {
      "cell_type": "code",
      "source": [
        "maxValues = df.max()\n",
        "minValues = df.min()\n",
        "print(\"Maximum Values:\")\n",
        "print(maxValues)\n",
        "print(\"\\nMinimum Values:\")\n",
        "print(minValues)"
      ],
      "metadata": {
        "colab": {
          "base_uri": "https://localhost:8080/"
        },
        "id": "avgrWc540PA7",
        "outputId": "97237ea7-dee8-4c19-fad5-af968fae68bd"
      },
      "execution_count": 45,
      "outputs": [
        {
          "output_type": "stream",
          "name": "stdout",
          "text": [
            "Maximum Values:\n",
            "UTC               1.655130e+09\n",
            "Temperature[C]    5.993000e+01\n",
            "Humidity[%]       7.520000e+01\n",
            "TVOC[ppb]         6.000000e+04\n",
            "eCO2[ppm]         6.000000e+04\n",
            "Raw H2            1.380300e+04\n",
            "Raw Ethanol       2.141000e+04\n",
            "Pressure[hPa]     9.398610e+02\n",
            "PM1.0             1.433369e+04\n",
            "PM2.5             4.543226e+04\n",
            "NC0.5             6.148203e+04\n",
            "NC1.0             5.191468e+04\n",
            "NC2.5             3.002644e+04\n",
            "CNT               2.499300e+04\n",
            "Fire Alarm        1.000000e+00\n",
            "dtype: float64\n",
            "\n",
            "Minimum Values:\n",
            "UTC               1.654712e+09\n",
            "Temperature[C]   -2.201000e+01\n",
            "Humidity[%]       1.074000e+01\n",
            "TVOC[ppb]         0.000000e+00\n",
            "eCO2[ppm]         4.000000e+02\n",
            "Raw H2            1.066800e+04\n",
            "Raw Ethanol       1.531700e+04\n",
            "Pressure[hPa]     9.308520e+02\n",
            "PM1.0             0.000000e+00\n",
            "PM2.5             0.000000e+00\n",
            "NC0.5             0.000000e+00\n",
            "NC1.0             0.000000e+00\n",
            "NC2.5             0.000000e+00\n",
            "CNT               0.000000e+00\n",
            "Fire Alarm        0.000000e+00\n",
            "dtype: float64\n"
          ]
        }
      ]
    },
    {
      "cell_type": "markdown",
      "source": [
        "### Dataset Details"
      ],
      "metadata": {
        "id": "ZXLNeo4C4u1M"
      }
    },
    {
      "cell_type": "code",
      "source": [
        "# To get basic details of all colums within the dataframe\n",
        "df.info()\n"
      ],
      "metadata": {
        "colab": {
          "base_uri": "https://localhost:8080/"
        },
        "id": "bxU6HP5GvHN_",
        "outputId": "4679cc10-ed76-44fb-a05f-29d2a009dc1f"
      },
      "execution_count": 46,
      "outputs": [
        {
          "output_type": "stream",
          "name": "stdout",
          "text": [
            "<class 'pandas.core.frame.DataFrame'>\n",
            "Int64Index: 62630 entries, 0 to 62629\n",
            "Data columns (total 15 columns):\n",
            " #   Column          Non-Null Count  Dtype  \n",
            "---  ------          --------------  -----  \n",
            " 0   UTC             62630 non-null  int64  \n",
            " 1   Temperature[C]  62630 non-null  float64\n",
            " 2   Humidity[%]     62630 non-null  float64\n",
            " 3   TVOC[ppb]       62630 non-null  int64  \n",
            " 4   eCO2[ppm]       62630 non-null  int64  \n",
            " 5   Raw H2          62630 non-null  int64  \n",
            " 6   Raw Ethanol     62630 non-null  int64  \n",
            " 7   Pressure[hPa]   62630 non-null  float64\n",
            " 8   PM1.0           62630 non-null  float64\n",
            " 9   PM2.5           62630 non-null  float64\n",
            " 10  NC0.5           62630 non-null  float64\n",
            " 11  NC1.0           62630 non-null  float64\n",
            " 12  NC2.5           62630 non-null  float64\n",
            " 13  CNT             62630 non-null  int64  \n",
            " 14  Fire Alarm      62630 non-null  int64  \n",
            "dtypes: float64(8), int64(7)\n",
            "memory usage: 7.6 MB\n"
          ]
        }
      ]
    },
    {
      "cell_type": "code",
      "source": [
        "# To get the basic mathematical representation of each column in the dataframe\n",
        "df.describe()"
      ],
      "metadata": {
        "colab": {
          "base_uri": "https://localhost:8080/",
          "height": 364
        },
        "id": "jnviwJc5vJP7",
        "outputId": "9a5bae04-2909-4fcc-ed08-98a7755ab44b"
      },
      "execution_count": 47,
      "outputs": [
        {
          "output_type": "execute_result",
          "data": {
            "text/plain": [
              "                UTC  Temperature[C]   Humidity[%]     TVOC[ppb]     eCO2[ppm]  \\\n",
              "count  6.263000e+04    62630.000000  62630.000000  62630.000000  62630.000000   \n",
              "mean   1.654792e+09       15.970424     48.539499   1942.057528    670.021044   \n",
              "std    1.100025e+05       14.359576      8.865367   7811.589055   1905.885439   \n",
              "min    1.654712e+09      -22.010000     10.740000      0.000000    400.000000   \n",
              "25%    1.654743e+09       10.994250     47.530000    130.000000    400.000000   \n",
              "50%    1.654762e+09       20.130000     50.150000    981.000000    400.000000   \n",
              "75%    1.654778e+09       25.409500     53.240000   1189.000000    438.000000   \n",
              "max    1.655130e+09       59.930000     75.200000  60000.000000  60000.000000   \n",
              "\n",
              "             Raw H2   Raw Ethanol  Pressure[hPa]         PM1.0         PM2.5  \\\n",
              "count  62630.000000  62630.000000   62630.000000  62630.000000  62630.000000   \n",
              "mean   12942.453936  19754.257912     938.627649    100.594309    184.467770   \n",
              "std      272.464305    609.513156       1.331344    922.524245   1976.305615   \n",
              "min    10668.000000  15317.000000     930.852000      0.000000      0.000000   \n",
              "25%    12830.000000  19435.000000     938.700000      1.280000      1.340000   \n",
              "50%    12924.000000  19501.000000     938.816000      1.810000      1.880000   \n",
              "75%    13109.000000  20078.000000     939.418000      2.090000      2.180000   \n",
              "max    13803.000000  21410.000000     939.861000  14333.690000  45432.260000   \n",
              "\n",
              "              NC0.5         NC1.0         NC2.5           CNT    Fire Alarm  \n",
              "count  62630.000000  62630.000000  62630.000000  62630.000000  62630.000000  \n",
              "mean     491.463608    203.586487     80.049042  10511.386157      0.714626  \n",
              "std     4265.661251   2214.738556   1083.383189   7597.870997      0.451596  \n",
              "min        0.000000      0.000000      0.000000      0.000000      0.000000  \n",
              "25%        8.820000      1.384000      0.033000   3625.250000      0.000000  \n",
              "50%       12.450000      1.943000      0.044000   9336.000000      1.000000  \n",
              "75%       14.420000      2.249000      0.051000  17164.750000      1.000000  \n",
              "max    61482.030000  51914.680000  30026.438000  24993.000000      1.000000  "
            ],
            "text/html": [
              "\n",
              "  <div id=\"df-d8d4a886-002a-4ced-a594-d503915bcfd9\">\n",
              "    <div class=\"colab-df-container\">\n",
              "      <div>\n",
              "<style scoped>\n",
              "    .dataframe tbody tr th:only-of-type {\n",
              "        vertical-align: middle;\n",
              "    }\n",
              "\n",
              "    .dataframe tbody tr th {\n",
              "        vertical-align: top;\n",
              "    }\n",
              "\n",
              "    .dataframe thead th {\n",
              "        text-align: right;\n",
              "    }\n",
              "</style>\n",
              "<table border=\"1\" class=\"dataframe\">\n",
              "  <thead>\n",
              "    <tr style=\"text-align: right;\">\n",
              "      <th></th>\n",
              "      <th>UTC</th>\n",
              "      <th>Temperature[C]</th>\n",
              "      <th>Humidity[%]</th>\n",
              "      <th>TVOC[ppb]</th>\n",
              "      <th>eCO2[ppm]</th>\n",
              "      <th>Raw H2</th>\n",
              "      <th>Raw Ethanol</th>\n",
              "      <th>Pressure[hPa]</th>\n",
              "      <th>PM1.0</th>\n",
              "      <th>PM2.5</th>\n",
              "      <th>NC0.5</th>\n",
              "      <th>NC1.0</th>\n",
              "      <th>NC2.5</th>\n",
              "      <th>CNT</th>\n",
              "      <th>Fire Alarm</th>\n",
              "    </tr>\n",
              "  </thead>\n",
              "  <tbody>\n",
              "    <tr>\n",
              "      <th>count</th>\n",
              "      <td>6.263000e+04</td>\n",
              "      <td>62630.000000</td>\n",
              "      <td>62630.000000</td>\n",
              "      <td>62630.000000</td>\n",
              "      <td>62630.000000</td>\n",
              "      <td>62630.000000</td>\n",
              "      <td>62630.000000</td>\n",
              "      <td>62630.000000</td>\n",
              "      <td>62630.000000</td>\n",
              "      <td>62630.000000</td>\n",
              "      <td>62630.000000</td>\n",
              "      <td>62630.000000</td>\n",
              "      <td>62630.000000</td>\n",
              "      <td>62630.000000</td>\n",
              "      <td>62630.000000</td>\n",
              "    </tr>\n",
              "    <tr>\n",
              "      <th>mean</th>\n",
              "      <td>1.654792e+09</td>\n",
              "      <td>15.970424</td>\n",
              "      <td>48.539499</td>\n",
              "      <td>1942.057528</td>\n",
              "      <td>670.021044</td>\n",
              "      <td>12942.453936</td>\n",
              "      <td>19754.257912</td>\n",
              "      <td>938.627649</td>\n",
              "      <td>100.594309</td>\n",
              "      <td>184.467770</td>\n",
              "      <td>491.463608</td>\n",
              "      <td>203.586487</td>\n",
              "      <td>80.049042</td>\n",
              "      <td>10511.386157</td>\n",
              "      <td>0.714626</td>\n",
              "    </tr>\n",
              "    <tr>\n",
              "      <th>std</th>\n",
              "      <td>1.100025e+05</td>\n",
              "      <td>14.359576</td>\n",
              "      <td>8.865367</td>\n",
              "      <td>7811.589055</td>\n",
              "      <td>1905.885439</td>\n",
              "      <td>272.464305</td>\n",
              "      <td>609.513156</td>\n",
              "      <td>1.331344</td>\n",
              "      <td>922.524245</td>\n",
              "      <td>1976.305615</td>\n",
              "      <td>4265.661251</td>\n",
              "      <td>2214.738556</td>\n",
              "      <td>1083.383189</td>\n",
              "      <td>7597.870997</td>\n",
              "      <td>0.451596</td>\n",
              "    </tr>\n",
              "    <tr>\n",
              "      <th>min</th>\n",
              "      <td>1.654712e+09</td>\n",
              "      <td>-22.010000</td>\n",
              "      <td>10.740000</td>\n",
              "      <td>0.000000</td>\n",
              "      <td>400.000000</td>\n",
              "      <td>10668.000000</td>\n",
              "      <td>15317.000000</td>\n",
              "      <td>930.852000</td>\n",
              "      <td>0.000000</td>\n",
              "      <td>0.000000</td>\n",
              "      <td>0.000000</td>\n",
              "      <td>0.000000</td>\n",
              "      <td>0.000000</td>\n",
              "      <td>0.000000</td>\n",
              "      <td>0.000000</td>\n",
              "    </tr>\n",
              "    <tr>\n",
              "      <th>25%</th>\n",
              "      <td>1.654743e+09</td>\n",
              "      <td>10.994250</td>\n",
              "      <td>47.530000</td>\n",
              "      <td>130.000000</td>\n",
              "      <td>400.000000</td>\n",
              "      <td>12830.000000</td>\n",
              "      <td>19435.000000</td>\n",
              "      <td>938.700000</td>\n",
              "      <td>1.280000</td>\n",
              "      <td>1.340000</td>\n",
              "      <td>8.820000</td>\n",
              "      <td>1.384000</td>\n",
              "      <td>0.033000</td>\n",
              "      <td>3625.250000</td>\n",
              "      <td>0.000000</td>\n",
              "    </tr>\n",
              "    <tr>\n",
              "      <th>50%</th>\n",
              "      <td>1.654762e+09</td>\n",
              "      <td>20.130000</td>\n",
              "      <td>50.150000</td>\n",
              "      <td>981.000000</td>\n",
              "      <td>400.000000</td>\n",
              "      <td>12924.000000</td>\n",
              "      <td>19501.000000</td>\n",
              "      <td>938.816000</td>\n",
              "      <td>1.810000</td>\n",
              "      <td>1.880000</td>\n",
              "      <td>12.450000</td>\n",
              "      <td>1.943000</td>\n",
              "      <td>0.044000</td>\n",
              "      <td>9336.000000</td>\n",
              "      <td>1.000000</td>\n",
              "    </tr>\n",
              "    <tr>\n",
              "      <th>75%</th>\n",
              "      <td>1.654778e+09</td>\n",
              "      <td>25.409500</td>\n",
              "      <td>53.240000</td>\n",
              "      <td>1189.000000</td>\n",
              "      <td>438.000000</td>\n",
              "      <td>13109.000000</td>\n",
              "      <td>20078.000000</td>\n",
              "      <td>939.418000</td>\n",
              "      <td>2.090000</td>\n",
              "      <td>2.180000</td>\n",
              "      <td>14.420000</td>\n",
              "      <td>2.249000</td>\n",
              "      <td>0.051000</td>\n",
              "      <td>17164.750000</td>\n",
              "      <td>1.000000</td>\n",
              "    </tr>\n",
              "    <tr>\n",
              "      <th>max</th>\n",
              "      <td>1.655130e+09</td>\n",
              "      <td>59.930000</td>\n",
              "      <td>75.200000</td>\n",
              "      <td>60000.000000</td>\n",
              "      <td>60000.000000</td>\n",
              "      <td>13803.000000</td>\n",
              "      <td>21410.000000</td>\n",
              "      <td>939.861000</td>\n",
              "      <td>14333.690000</td>\n",
              "      <td>45432.260000</td>\n",
              "      <td>61482.030000</td>\n",
              "      <td>51914.680000</td>\n",
              "      <td>30026.438000</td>\n",
              "      <td>24993.000000</td>\n",
              "      <td>1.000000</td>\n",
              "    </tr>\n",
              "  </tbody>\n",
              "</table>\n",
              "</div>\n",
              "      <button class=\"colab-df-convert\" onclick=\"convertToInteractive('df-d8d4a886-002a-4ced-a594-d503915bcfd9')\"\n",
              "              title=\"Convert this dataframe to an interactive table.\"\n",
              "              style=\"display:none;\">\n",
              "        \n",
              "  <svg xmlns=\"http://www.w3.org/2000/svg\" height=\"24px\"viewBox=\"0 0 24 24\"\n",
              "       width=\"24px\">\n",
              "    <path d=\"M0 0h24v24H0V0z\" fill=\"none\"/>\n",
              "    <path d=\"M18.56 5.44l.94 2.06.94-2.06 2.06-.94-2.06-.94-.94-2.06-.94 2.06-2.06.94zm-11 1L8.5 8.5l.94-2.06 2.06-.94-2.06-.94L8.5 2.5l-.94 2.06-2.06.94zm10 10l.94 2.06.94-2.06 2.06-.94-2.06-.94-.94-2.06-.94 2.06-2.06.94z\"/><path d=\"M17.41 7.96l-1.37-1.37c-.4-.4-.92-.59-1.43-.59-.52 0-1.04.2-1.43.59L10.3 9.45l-7.72 7.72c-.78.78-.78 2.05 0 2.83L4 21.41c.39.39.9.59 1.41.59.51 0 1.02-.2 1.41-.59l7.78-7.78 2.81-2.81c.8-.78.8-2.07 0-2.86zM5.41 20L4 18.59l7.72-7.72 1.47 1.35L5.41 20z\"/>\n",
              "  </svg>\n",
              "      </button>\n",
              "      \n",
              "  <style>\n",
              "    .colab-df-container {\n",
              "      display:flex;\n",
              "      flex-wrap:wrap;\n",
              "      gap: 12px;\n",
              "    }\n",
              "\n",
              "    .colab-df-convert {\n",
              "      background-color: #E8F0FE;\n",
              "      border: none;\n",
              "      border-radius: 50%;\n",
              "      cursor: pointer;\n",
              "      display: none;\n",
              "      fill: #1967D2;\n",
              "      height: 32px;\n",
              "      padding: 0 0 0 0;\n",
              "      width: 32px;\n",
              "    }\n",
              "\n",
              "    .colab-df-convert:hover {\n",
              "      background-color: #E2EBFA;\n",
              "      box-shadow: 0px 1px 2px rgba(60, 64, 67, 0.3), 0px 1px 3px 1px rgba(60, 64, 67, 0.15);\n",
              "      fill: #174EA6;\n",
              "    }\n",
              "\n",
              "    [theme=dark] .colab-df-convert {\n",
              "      background-color: #3B4455;\n",
              "      fill: #D2E3FC;\n",
              "    }\n",
              "\n",
              "    [theme=dark] .colab-df-convert:hover {\n",
              "      background-color: #434B5C;\n",
              "      box-shadow: 0px 1px 3px 1px rgba(0, 0, 0, 0.15);\n",
              "      filter: drop-shadow(0px 1px 2px rgba(0, 0, 0, 0.3));\n",
              "      fill: #FFFFFF;\n",
              "    }\n",
              "  </style>\n",
              "\n",
              "      <script>\n",
              "        const buttonEl =\n",
              "          document.querySelector('#df-d8d4a886-002a-4ced-a594-d503915bcfd9 button.colab-df-convert');\n",
              "        buttonEl.style.display =\n",
              "          google.colab.kernel.accessAllowed ? 'block' : 'none';\n",
              "\n",
              "        async function convertToInteractive(key) {\n",
              "          const element = document.querySelector('#df-d8d4a886-002a-4ced-a594-d503915bcfd9');\n",
              "          const dataTable =\n",
              "            await google.colab.kernel.invokeFunction('convertToInteractive',\n",
              "                                                     [key], {});\n",
              "          if (!dataTable) return;\n",
              "\n",
              "          const docLinkHtml = 'Like what you see? Visit the ' +\n",
              "            '<a target=\"_blank\" href=https://colab.research.google.com/notebooks/data_table.ipynb>data table notebook</a>'\n",
              "            + ' to learn more about interactive tables.';\n",
              "          element.innerHTML = '';\n",
              "          dataTable['output_type'] = 'display_data';\n",
              "          await google.colab.output.renderOutput(dataTable, element);\n",
              "          const docLink = document.createElement('div');\n",
              "          docLink.innerHTML = docLinkHtml;\n",
              "          element.appendChild(docLink);\n",
              "        }\n",
              "      </script>\n",
              "    </div>\n",
              "  </div>\n",
              "  "
            ]
          },
          "metadata": {},
          "execution_count": 47
        }
      ]
    },
    {
      "cell_type": "markdown",
      "source": [
        "### Dropping Unnecessary Columns"
      ],
      "metadata": {
        "id": "mmoEkPrv4zGr"
      }
    },
    {
      "cell_type": "code",
      "source": [
        "df.drop(columns=['UTC', 'CNT'], inplace= True)\n",
        "df"
      ],
      "metadata": {
        "colab": {
          "base_uri": "https://localhost:8080/",
          "height": 505
        },
        "id": "hNNfTDaNvL74",
        "outputId": "dc729063-631a-4eb4-8fee-9d003627eeac"
      },
      "execution_count": 48,
      "outputs": [
        {
          "output_type": "execute_result",
          "data": {
            "text/plain": [
              "       Temperature[C]  Humidity[%]  TVOC[ppb]  eCO2[ppm]  Raw H2  Raw Ethanol  \\\n",
              "0              20.000        57.36          0        400   12306        18520   \n",
              "1              20.015        56.67          0        400   12345        18651   \n",
              "2              20.029        55.96          0        400   12374        18764   \n",
              "3              20.044        55.28          0        400   12390        18849   \n",
              "4              20.059        54.69          0        400   12403        18921   \n",
              "...               ...          ...        ...        ...     ...          ...   \n",
              "62625          18.438        15.79        625        400   13723        20569   \n",
              "62626          18.653        15.87        612        400   13731        20588   \n",
              "62627          18.867        15.84        627        400   13725        20582   \n",
              "62628          19.083        16.04        638        400   13712        20566   \n",
              "62629          19.299        16.52        643        400   13696        20543   \n",
              "\n",
              "       Pressure[hPa]  PM1.0  PM2.5  NC0.5  NC1.0  NC2.5  Fire Alarm  \n",
              "0            939.735   0.00   0.00   0.00  0.000  0.000           0  \n",
              "1            939.744   0.00   0.00   0.00  0.000  0.000           0  \n",
              "2            939.738   0.00   0.00   0.00  0.000  0.000           0  \n",
              "3            939.736   0.00   0.00   0.00  0.000  0.000           0  \n",
              "4            939.744   0.00   0.00   0.00  0.000  0.000           0  \n",
              "...              ...    ...    ...    ...    ...    ...         ...  \n",
              "62625        936.670   0.63   0.65   4.32  0.673  0.015           0  \n",
              "62626        936.678   0.61   0.63   4.18  0.652  0.015           0  \n",
              "62627        936.687   0.57   0.60   3.95  0.617  0.014           0  \n",
              "62628        936.680   0.57   0.59   3.92  0.611  0.014           0  \n",
              "62629        936.676   0.57   0.59   3.90  0.607  0.014           0  \n",
              "\n",
              "[62630 rows x 13 columns]"
            ],
            "text/html": [
              "\n",
              "  <div id=\"df-56ecf10d-5d50-408f-9fc4-0ebb48d87f54\">\n",
              "    <div class=\"colab-df-container\">\n",
              "      <div>\n",
              "<style scoped>\n",
              "    .dataframe tbody tr th:only-of-type {\n",
              "        vertical-align: middle;\n",
              "    }\n",
              "\n",
              "    .dataframe tbody tr th {\n",
              "        vertical-align: top;\n",
              "    }\n",
              "\n",
              "    .dataframe thead th {\n",
              "        text-align: right;\n",
              "    }\n",
              "</style>\n",
              "<table border=\"1\" class=\"dataframe\">\n",
              "  <thead>\n",
              "    <tr style=\"text-align: right;\">\n",
              "      <th></th>\n",
              "      <th>Temperature[C]</th>\n",
              "      <th>Humidity[%]</th>\n",
              "      <th>TVOC[ppb]</th>\n",
              "      <th>eCO2[ppm]</th>\n",
              "      <th>Raw H2</th>\n",
              "      <th>Raw Ethanol</th>\n",
              "      <th>Pressure[hPa]</th>\n",
              "      <th>PM1.0</th>\n",
              "      <th>PM2.5</th>\n",
              "      <th>NC0.5</th>\n",
              "      <th>NC1.0</th>\n",
              "      <th>NC2.5</th>\n",
              "      <th>Fire Alarm</th>\n",
              "    </tr>\n",
              "  </thead>\n",
              "  <tbody>\n",
              "    <tr>\n",
              "      <th>0</th>\n",
              "      <td>20.000</td>\n",
              "      <td>57.36</td>\n",
              "      <td>0</td>\n",
              "      <td>400</td>\n",
              "      <td>12306</td>\n",
              "      <td>18520</td>\n",
              "      <td>939.735</td>\n",
              "      <td>0.00</td>\n",
              "      <td>0.00</td>\n",
              "      <td>0.00</td>\n",
              "      <td>0.000</td>\n",
              "      <td>0.000</td>\n",
              "      <td>0</td>\n",
              "    </tr>\n",
              "    <tr>\n",
              "      <th>1</th>\n",
              "      <td>20.015</td>\n",
              "      <td>56.67</td>\n",
              "      <td>0</td>\n",
              "      <td>400</td>\n",
              "      <td>12345</td>\n",
              "      <td>18651</td>\n",
              "      <td>939.744</td>\n",
              "      <td>0.00</td>\n",
              "      <td>0.00</td>\n",
              "      <td>0.00</td>\n",
              "      <td>0.000</td>\n",
              "      <td>0.000</td>\n",
              "      <td>0</td>\n",
              "    </tr>\n",
              "    <tr>\n",
              "      <th>2</th>\n",
              "      <td>20.029</td>\n",
              "      <td>55.96</td>\n",
              "      <td>0</td>\n",
              "      <td>400</td>\n",
              "      <td>12374</td>\n",
              "      <td>18764</td>\n",
              "      <td>939.738</td>\n",
              "      <td>0.00</td>\n",
              "      <td>0.00</td>\n",
              "      <td>0.00</td>\n",
              "      <td>0.000</td>\n",
              "      <td>0.000</td>\n",
              "      <td>0</td>\n",
              "    </tr>\n",
              "    <tr>\n",
              "      <th>3</th>\n",
              "      <td>20.044</td>\n",
              "      <td>55.28</td>\n",
              "      <td>0</td>\n",
              "      <td>400</td>\n",
              "      <td>12390</td>\n",
              "      <td>18849</td>\n",
              "      <td>939.736</td>\n",
              "      <td>0.00</td>\n",
              "      <td>0.00</td>\n",
              "      <td>0.00</td>\n",
              "      <td>0.000</td>\n",
              "      <td>0.000</td>\n",
              "      <td>0</td>\n",
              "    </tr>\n",
              "    <tr>\n",
              "      <th>4</th>\n",
              "      <td>20.059</td>\n",
              "      <td>54.69</td>\n",
              "      <td>0</td>\n",
              "      <td>400</td>\n",
              "      <td>12403</td>\n",
              "      <td>18921</td>\n",
              "      <td>939.744</td>\n",
              "      <td>0.00</td>\n",
              "      <td>0.00</td>\n",
              "      <td>0.00</td>\n",
              "      <td>0.000</td>\n",
              "      <td>0.000</td>\n",
              "      <td>0</td>\n",
              "    </tr>\n",
              "    <tr>\n",
              "      <th>...</th>\n",
              "      <td>...</td>\n",
              "      <td>...</td>\n",
              "      <td>...</td>\n",
              "      <td>...</td>\n",
              "      <td>...</td>\n",
              "      <td>...</td>\n",
              "      <td>...</td>\n",
              "      <td>...</td>\n",
              "      <td>...</td>\n",
              "      <td>...</td>\n",
              "      <td>...</td>\n",
              "      <td>...</td>\n",
              "      <td>...</td>\n",
              "    </tr>\n",
              "    <tr>\n",
              "      <th>62625</th>\n",
              "      <td>18.438</td>\n",
              "      <td>15.79</td>\n",
              "      <td>625</td>\n",
              "      <td>400</td>\n",
              "      <td>13723</td>\n",
              "      <td>20569</td>\n",
              "      <td>936.670</td>\n",
              "      <td>0.63</td>\n",
              "      <td>0.65</td>\n",
              "      <td>4.32</td>\n",
              "      <td>0.673</td>\n",
              "      <td>0.015</td>\n",
              "      <td>0</td>\n",
              "    </tr>\n",
              "    <tr>\n",
              "      <th>62626</th>\n",
              "      <td>18.653</td>\n",
              "      <td>15.87</td>\n",
              "      <td>612</td>\n",
              "      <td>400</td>\n",
              "      <td>13731</td>\n",
              "      <td>20588</td>\n",
              "      <td>936.678</td>\n",
              "      <td>0.61</td>\n",
              "      <td>0.63</td>\n",
              "      <td>4.18</td>\n",
              "      <td>0.652</td>\n",
              "      <td>0.015</td>\n",
              "      <td>0</td>\n",
              "    </tr>\n",
              "    <tr>\n",
              "      <th>62627</th>\n",
              "      <td>18.867</td>\n",
              "      <td>15.84</td>\n",
              "      <td>627</td>\n",
              "      <td>400</td>\n",
              "      <td>13725</td>\n",
              "      <td>20582</td>\n",
              "      <td>936.687</td>\n",
              "      <td>0.57</td>\n",
              "      <td>0.60</td>\n",
              "      <td>3.95</td>\n",
              "      <td>0.617</td>\n",
              "      <td>0.014</td>\n",
              "      <td>0</td>\n",
              "    </tr>\n",
              "    <tr>\n",
              "      <th>62628</th>\n",
              "      <td>19.083</td>\n",
              "      <td>16.04</td>\n",
              "      <td>638</td>\n",
              "      <td>400</td>\n",
              "      <td>13712</td>\n",
              "      <td>20566</td>\n",
              "      <td>936.680</td>\n",
              "      <td>0.57</td>\n",
              "      <td>0.59</td>\n",
              "      <td>3.92</td>\n",
              "      <td>0.611</td>\n",
              "      <td>0.014</td>\n",
              "      <td>0</td>\n",
              "    </tr>\n",
              "    <tr>\n",
              "      <th>62629</th>\n",
              "      <td>19.299</td>\n",
              "      <td>16.52</td>\n",
              "      <td>643</td>\n",
              "      <td>400</td>\n",
              "      <td>13696</td>\n",
              "      <td>20543</td>\n",
              "      <td>936.676</td>\n",
              "      <td>0.57</td>\n",
              "      <td>0.59</td>\n",
              "      <td>3.90</td>\n",
              "      <td>0.607</td>\n",
              "      <td>0.014</td>\n",
              "      <td>0</td>\n",
              "    </tr>\n",
              "  </tbody>\n",
              "</table>\n",
              "<p>62630 rows × 13 columns</p>\n",
              "</div>\n",
              "      <button class=\"colab-df-convert\" onclick=\"convertToInteractive('df-56ecf10d-5d50-408f-9fc4-0ebb48d87f54')\"\n",
              "              title=\"Convert this dataframe to an interactive table.\"\n",
              "              style=\"display:none;\">\n",
              "        \n",
              "  <svg xmlns=\"http://www.w3.org/2000/svg\" height=\"24px\"viewBox=\"0 0 24 24\"\n",
              "       width=\"24px\">\n",
              "    <path d=\"M0 0h24v24H0V0z\" fill=\"none\"/>\n",
              "    <path d=\"M18.56 5.44l.94 2.06.94-2.06 2.06-.94-2.06-.94-.94-2.06-.94 2.06-2.06.94zm-11 1L8.5 8.5l.94-2.06 2.06-.94-2.06-.94L8.5 2.5l-.94 2.06-2.06.94zm10 10l.94 2.06.94-2.06 2.06-.94-2.06-.94-.94-2.06-.94 2.06-2.06.94z\"/><path d=\"M17.41 7.96l-1.37-1.37c-.4-.4-.92-.59-1.43-.59-.52 0-1.04.2-1.43.59L10.3 9.45l-7.72 7.72c-.78.78-.78 2.05 0 2.83L4 21.41c.39.39.9.59 1.41.59.51 0 1.02-.2 1.41-.59l7.78-7.78 2.81-2.81c.8-.78.8-2.07 0-2.86zM5.41 20L4 18.59l7.72-7.72 1.47 1.35L5.41 20z\"/>\n",
              "  </svg>\n",
              "      </button>\n",
              "      \n",
              "  <style>\n",
              "    .colab-df-container {\n",
              "      display:flex;\n",
              "      flex-wrap:wrap;\n",
              "      gap: 12px;\n",
              "    }\n",
              "\n",
              "    .colab-df-convert {\n",
              "      background-color: #E8F0FE;\n",
              "      border: none;\n",
              "      border-radius: 50%;\n",
              "      cursor: pointer;\n",
              "      display: none;\n",
              "      fill: #1967D2;\n",
              "      height: 32px;\n",
              "      padding: 0 0 0 0;\n",
              "      width: 32px;\n",
              "    }\n",
              "\n",
              "    .colab-df-convert:hover {\n",
              "      background-color: #E2EBFA;\n",
              "      box-shadow: 0px 1px 2px rgba(60, 64, 67, 0.3), 0px 1px 3px 1px rgba(60, 64, 67, 0.15);\n",
              "      fill: #174EA6;\n",
              "    }\n",
              "\n",
              "    [theme=dark] .colab-df-convert {\n",
              "      background-color: #3B4455;\n",
              "      fill: #D2E3FC;\n",
              "    }\n",
              "\n",
              "    [theme=dark] .colab-df-convert:hover {\n",
              "      background-color: #434B5C;\n",
              "      box-shadow: 0px 1px 3px 1px rgba(0, 0, 0, 0.15);\n",
              "      filter: drop-shadow(0px 1px 2px rgba(0, 0, 0, 0.3));\n",
              "      fill: #FFFFFF;\n",
              "    }\n",
              "  </style>\n",
              "\n",
              "      <script>\n",
              "        const buttonEl =\n",
              "          document.querySelector('#df-56ecf10d-5d50-408f-9fc4-0ebb48d87f54 button.colab-df-convert');\n",
              "        buttonEl.style.display =\n",
              "          google.colab.kernel.accessAllowed ? 'block' : 'none';\n",
              "\n",
              "        async function convertToInteractive(key) {\n",
              "          const element = document.querySelector('#df-56ecf10d-5d50-408f-9fc4-0ebb48d87f54');\n",
              "          const dataTable =\n",
              "            await google.colab.kernel.invokeFunction('convertToInteractive',\n",
              "                                                     [key], {});\n",
              "          if (!dataTable) return;\n",
              "\n",
              "          const docLinkHtml = 'Like what you see? Visit the ' +\n",
              "            '<a target=\"_blank\" href=https://colab.research.google.com/notebooks/data_table.ipynb>data table notebook</a>'\n",
              "            + ' to learn more about interactive tables.';\n",
              "          element.innerHTML = '';\n",
              "          dataTable['output_type'] = 'display_data';\n",
              "          await google.colab.output.renderOutput(dataTable, element);\n",
              "          const docLink = document.createElement('div');\n",
              "          docLink.innerHTML = docLinkHtml;\n",
              "          element.appendChild(docLink);\n",
              "        }\n",
              "      </script>\n",
              "    </div>\n",
              "  </div>\n",
              "  "
            ]
          },
          "metadata": {},
          "execution_count": 48
        }
      ]
    },
    {
      "cell_type": "markdown",
      "source": [
        "## Analyzing Output Column"
      ],
      "metadata": {
        "id": "ibQSaC-d5ZGt"
      }
    },
    {
      "cell_type": "code",
      "source": [
        "# to analyze the distribution of output variable \n",
        "x = df['Fire Alarm'].value_counts()\n",
        "plt.pie(x, labels=['Y', 'N'])"
      ],
      "metadata": {
        "colab": {
          "base_uri": "https://localhost:8080/",
          "height": 535
        },
        "id": "epFZCBSYvWDa",
        "outputId": "d3e0622d-ab1f-4cf2-aaa7-9efadc3b369b"
      },
      "execution_count": 49,
      "outputs": [
        {
          "output_type": "execute_result",
          "data": {
            "text/plain": [
              "([<matplotlib.patches.Wedge at 0x7f6bb873cd10>,\n",
              "  <matplotlib.patches.Wedge at 0x7f6bb872f150>],\n",
              " [Text(-0.6867566913298193, 0.8592818204254757, 'Y'),\n",
              "  Text(0.6867567717815868, -0.8592817561266699, 'N')])"
            ]
          },
          "metadata": {},
          "execution_count": 49
        },
        {
          "output_type": "display_data",
          "data": {
            "text/plain": [
              "<Figure size 1152x576 with 1 Axes>"
            ],
            "image/png": "[encoded data removed]"
          },
          "metadata": {}
        }
      ]
    },
    {
      "cell_type": "markdown",
      "source": [
        "The figure depicts target variable contain more 1 values than 0 values. This distribution might result into biased algorithm. We can cover this up to an extend through stratified splitting."
      ],
      "metadata": {
        "id": "LFNs0Sx067Fm"
      }
    },
    {
      "cell_type": "markdown",
      "source": [
        "### Correlation Between Columns"
      ],
      "metadata": {
        "id": "A3Erocis5ded"
      }
    },
    {
      "cell_type": "code",
      "source": [
        "plt.figure(figsize=[15,8])\n",
        "sns.heatmap(df.corr(),annot = True)"
      ],
      "metadata": {
        "colab": {
          "base_uri": "https://localhost:8080/",
          "height": 571
        },
        "id": "E2sFP4emvjVN",
        "outputId": "b4e6a281-a49e-4491-bc35-e5f3cfcdf8f2"
      },
      "execution_count": 50,
      "outputs": [
        {
          "output_type": "execute_result",
          "data": {
            "text/plain": [
              "<matplotlib.axes._subplots.AxesSubplot at 0x7f6bb872fdd0>"
            ]
          },
          "metadata": {},
          "execution_count": 50
        },
        {
          "output_type": "display_data",
          "data": {
            "text/plain": [
              "<Figure size 1080x576 with 2 Axes>"
            ],
            "image/png": "[encoded data removed]"
          },
          "metadata": {
            "needs_background": "light"
          }
        }
      ]
    },
    {
      "cell_type": "markdown",
      "source": [
        "### Detecting Outliers and Replacing it with Mean Value Of That Column"
      ],
      "metadata": {
        "id": "gWcXC4rN5pT6"
      }
    },
    {
      "cell_type": "code",
      "source": [
        "pip install datasist"
      ],
      "metadata": {
        "colab": {
          "base_uri": "https://localhost:8080/"
        },
        "id": "J6Lm7l_B5n2n",
        "outputId": "ce18d740-6719-4796-e416-6fe006c7d59b"
      },
      "execution_count": 51,
      "outputs": [
        {
          "output_type": "stream",
          "name": "stdout",
          "text": [
            "Looking in indexes: https://pypi.org/simple, https://us-python.pkg.dev/colab-wheels/public/simple/\n",
            "Requirement already satisfied: datasist in /usr/local/lib/python3.7/dist-packages (1.5.3)\n",
            "Requirement already satisfied: numpy in /usr/local/lib/python3.7/dist-packages (from datasist) (1.21.6)\n",
            "Requirement already satisfied: scikit-learn in /usr/local/lib/python3.7/dist-packages (from datasist) (1.0.2)\n",
            "Requirement already satisfied: seaborn in /usr/local/lib/python3.7/dist-packages (from datasist) (0.11.2)\n",
            "Requirement already satisfied: Joblib in /usr/local/lib/python3.7/dist-packages (from datasist) (1.2.0)\n",
            "Requirement already satisfied: jupyter in /usr/local/lib/python3.7/dist-packages (from datasist) (1.0.0)\n",
            "Requirement already satisfied: matplotlib in /usr/local/lib/python3.7/dist-packages (from datasist) (3.2.2)\n",
            "Requirement already satisfied: nltk in /usr/local/lib/python3.7/dist-packages (from datasist) (3.7)\n",
            "Requirement already satisfied: pandas in /usr/local/lib/python3.7/dist-packages (from datasist) (1.3.5)\n",
            "Requirement already satisfied: jupyter-console in /usr/local/lib/python3.7/dist-packages (from jupyter->datasist) (6.1.0)\n",
            "Requirement already satisfied: qtconsole in /usr/local/lib/python3.7/dist-packages (from jupyter->datasist) (5.4.0)\n",
            "Requirement already satisfied: notebook in /usr/local/lib/python3.7/dist-packages (from jupyter->datasist) (5.5.0)\n",
            "Requirement already satisfied: ipykernel in /usr/local/lib/python3.7/dist-packages (from jupyter->datasist) (5.3.4)\n",
            "Requirement already satisfied: ipywidgets in /usr/local/lib/python3.7/dist-packages (from jupyter->datasist) (7.7.1)\n",
            "Requirement already satisfied: nbconvert in /usr/local/lib/python3.7/dist-packages (from jupyter->datasist) (5.6.1)\n",
            "Requirement already satisfied: traitlets>=4.1.0 in /usr/local/lib/python3.7/dist-packages (from ipykernel->jupyter->datasist) (5.1.1)\n",
            "Requirement already satisfied: ipython>=5.0.0 in /usr/local/lib/python3.7/dist-packages (from ipykernel->jupyter->datasist) (7.9.0)\n",
            "Requirement already satisfied: tornado>=4.2 in /usr/local/lib/python3.7/dist-packages (from ipykernel->jupyter->datasist) (5.1.1)\n",
            "Requirement already satisfied: jupyter-client in /usr/local/lib/python3.7/dist-packages (from ipykernel->jupyter->datasist) (6.1.12)\n",
            "Requirement already satisfied: pickleshare in /usr/local/lib/python3.7/dist-packages (from ipython>=5.0.0->ipykernel->jupyter->datasist) (0.7.5)\n",
            "Requirement already satisfied: jedi>=0.10 in /usr/local/lib/python3.7/dist-packages (from ipython>=5.0.0->ipykernel->jupyter->datasist) (0.18.1)\n",
            "Requirement already satisfied: setuptools>=18.5 in /usr/local/lib/python3.7/dist-packages (from ipython>=5.0.0->ipykernel->jupyter->datasist) (57.4.0)\n",
            "Requirement already satisfied: pygments in /usr/local/lib/python3.7/dist-packages (from ipython>=5.0.0->ipykernel->jupyter->datasist) (2.6.1)\n",
            "Requirement already satisfied: decorator in /usr/local/lib/python3.7/dist-packages (from ipython>=5.0.0->ipykernel->jupyter->datasist) (4.4.2)\n",
            "Requirement already satisfied: pexpect in /usr/local/lib/python3.7/dist-packages (from ipython>=5.0.0->ipykernel->jupyter->datasist) (4.8.0)\n",
            "Requirement already satisfied: backcall in /usr/local/lib/python3.7/dist-packages (from ipython>=5.0.0->ipykernel->jupyter->datasist) (0.2.0)\n",
            "Requirement already satisfied: prompt-toolkit<2.1.0,>=2.0.0 in /usr/local/lib/python3.7/dist-packages (from ipython>=5.0.0->ipykernel->jupyter->datasist) (2.0.10)\n",
            "Requirement already satisfied: parso<0.9.0,>=0.8.0 in /usr/local/lib/python3.7/dist-packages (from jedi>=0.10->ipython>=5.0.0->ipykernel->jupyter->datasist) (0.8.3)\n",
            "Requirement already satisfied: wcwidth in /usr/local/lib/python3.7/dist-packages (from prompt-toolkit<2.1.0,>=2.0.0->ipython>=5.0.0->ipykernel->jupyter->datasist) (0.2.5)\n",
            "Requirement already satisfied: six>=1.9.0 in /usr/local/lib/python3.7/dist-packages (from prompt-toolkit<2.1.0,>=2.0.0->ipython>=5.0.0->ipykernel->jupyter->datasist) (1.15.0)\n",
            "Requirement already satisfied: widgetsnbextension~=3.6.0 in /usr/local/lib/python3.7/dist-packages (from ipywidgets->jupyter->datasist) (3.6.1)\n",
            "Requirement already satisfied: ipython-genutils~=0.2.0 in /usr/local/lib/python3.7/dist-packages (from ipywidgets->jupyter->datasist) (0.2.0)\n",
            "Requirement already satisfied: jupyterlab-widgets>=1.0.0 in /usr/local/lib/python3.7/dist-packages (from ipywidgets->jupyter->datasist) (3.0.3)\n",
            "Requirement already satisfied: Send2Trash in /usr/local/lib/python3.7/dist-packages (from notebook->jupyter->datasist) (1.8.0)\n",
            "Requirement already satisfied: jupyter-core>=4.4.0 in /usr/local/lib/python3.7/dist-packages (from notebook->jupyter->datasist) (4.11.2)\n",
            "Requirement already satisfied: jinja2 in /usr/local/lib/python3.7/dist-packages (from notebook->jupyter->datasist) (2.11.3)\n",
            "Requirement already satisfied: pyzmq>=17 in /usr/local/lib/python3.7/dist-packages (from notebook->jupyter->datasist) (23.2.1)\n",
            "Requirement already satisfied: nbformat in /usr/local/lib/python3.7/dist-packages (from notebook->jupyter->datasist) (5.7.0)\n",
            "Requirement already satisfied: terminado>=0.8.1 in /usr/local/lib/python3.7/dist-packages (from notebook->jupyter->datasist) (0.13.3)\n",
            "Requirement already satisfied: python-dateutil>=2.1 in /usr/local/lib/python3.7/dist-packages (from jupyter-client->ipykernel->jupyter->datasist) (2.8.2)\n",
            "Requirement already satisfied: ptyprocess in /usr/local/lib/python3.7/dist-packages (from terminado>=0.8.1->notebook->jupyter->datasist) (0.7.0)\n",
            "Requirement already satisfied: MarkupSafe>=0.23 in /usr/local/lib/python3.7/dist-packages (from jinja2->notebook->jupyter->datasist) (2.0.1)\n",
            "Requirement already satisfied: kiwisolver>=1.0.1 in /usr/local/lib/python3.7/dist-packages (from matplotlib->datasist) (1.4.4)\n",
            "Requirement already satisfied: pyparsing!=2.0.4,!=2.1.2,!=2.1.6,>=2.0.1 in /usr/local/lib/python3.7/dist-packages (from matplotlib->datasist) (3.0.9)\n",
            "Requirement already satisfied: cycler>=0.10 in /usr/local/lib/python3.7/dist-packages (from matplotlib->datasist) (0.11.0)\n",
            "Requirement already satisfied: typing-extensions in /usr/local/lib/python3.7/dist-packages (from kiwisolver>=1.0.1->matplotlib->datasist) (4.1.1)\n",
            "Requirement already satisfied: entrypoints>=0.2.2 in /usr/local/lib/python3.7/dist-packages (from nbconvert->jupyter->datasist) (0.4)\n",
            "Requirement already satisfied: bleach in /usr/local/lib/python3.7/dist-packages (from nbconvert->jupyter->datasist) (5.0.1)\n",
            "Requirement already satisfied: mistune<2,>=0.8.1 in /usr/local/lib/python3.7/dist-packages (from nbconvert->jupyter->datasist) (0.8.4)\n",
            "Requirement already satisfied: pandocfilters>=1.4.1 in /usr/local/lib/python3.7/dist-packages (from nbconvert->jupyter->datasist) (1.5.0)\n",
            "Requirement already satisfied: testpath in /usr/local/lib/python3.7/dist-packages (from nbconvert->jupyter->datasist) (0.6.0)\n",
            "Requirement already satisfied: defusedxml in /usr/local/lib/python3.7/dist-packages (from nbconvert->jupyter->datasist) (0.7.1)\n",
            "Requirement already satisfied: jsonschema>=2.6 in /usr/local/lib/python3.7/dist-packages (from nbformat->notebook->jupyter->datasist) (4.3.3)\n",
            "Requirement already satisfied: fastjsonschema in /usr/local/lib/python3.7/dist-packages (from nbformat->notebook->jupyter->datasist) (2.16.2)\n",
            "Requirement already satisfied: importlib-metadata>=3.6 in /usr/local/lib/python3.7/dist-packages (from nbformat->notebook->jupyter->datasist) (4.13.0)\n",
            "Requirement already satisfied: zipp>=0.5 in /usr/local/lib/python3.7/dist-packages (from importlib-metadata>=3.6->nbformat->notebook->jupyter->datasist) (3.10.0)\n",
            "Requirement already satisfied: pyrsistent!=0.17.0,!=0.17.1,!=0.17.2,>=0.14.0 in /usr/local/lib/python3.7/dist-packages (from jsonschema>=2.6->nbformat->notebook->jupyter->datasist) (0.18.1)\n",
            "Requirement already satisfied: importlib-resources>=1.4.0 in /usr/local/lib/python3.7/dist-packages (from jsonschema>=2.6->nbformat->notebook->jupyter->datasist) (5.10.0)\n",
            "Requirement already satisfied: attrs>=17.4.0 in /usr/local/lib/python3.7/dist-packages (from jsonschema>=2.6->nbformat->notebook->jupyter->datasist) (22.1.0)\n",
            "Requirement already satisfied: webencodings in /usr/local/lib/python3.7/dist-packages (from bleach->nbconvert->jupyter->datasist) (0.5.1)\n",
            "Requirement already satisfied: click in /usr/local/lib/python3.7/dist-packages (from nltk->datasist) (7.1.2)\n",
            "Requirement already satisfied: tqdm in /usr/local/lib/python3.7/dist-packages (from nltk->datasist) (4.64.1)\n",
            "Requirement already satisfied: regex>=2021.8.3 in /usr/local/lib/python3.7/dist-packages (from nltk->datasist) (2022.6.2)\n",
            "Requirement already satisfied: pytz>=2017.3 in /usr/local/lib/python3.7/dist-packages (from pandas->datasist) (2022.5)\n",
            "Requirement already satisfied: qtpy>=2.0.1 in /usr/local/lib/python3.7/dist-packages (from qtconsole->jupyter->datasist) (2.2.1)\n",
            "Requirement already satisfied: packaging in /usr/local/lib/python3.7/dist-packages (from qtpy>=2.0.1->qtconsole->jupyter->datasist) (21.3)\n",
            "Requirement already satisfied: threadpoolctl>=2.0.0 in /usr/local/lib/python3.7/dist-packages (from scikit-learn->datasist) (3.1.0)\n",
            "Requirement already satisfied: scipy>=1.1.0 in /usr/local/lib/python3.7/dist-packages (from scikit-learn->datasist) (1.7.3)\n"
          ]
        }
      ]
    },
    {
      "cell_type": "code",
      "source": [
        "plt.figure(figsize=[15,8])\n",
        "# boxplot define the distribution of dataset around each column based on min,q1,q2,q3 and mx values.\n",
        "sns.boxplot(data=df)"
      ],
      "metadata": {
        "colab": {
          "base_uri": "https://localhost:8080/",
          "height": 500
        },
        "id": "c0PMWnx0vu2L",
        "outputId": "a7cf305e-4037-446e-e009-59e6a202a024"
      },
      "execution_count": 52,
      "outputs": [
        {
          "output_type": "execute_result",
          "data": {
            "text/plain": [
              "<matplotlib.axes._subplots.AxesSubplot at 0x7f6bb8feccd0>"
            ]
          },
          "metadata": {},
          "execution_count": 52
        },
        {
          "output_type": "display_data",
          "data": {
            "text/plain": [
              "<Figure size 1080x576 with 1 Axes>"
            ],
            "image/png": "[encoded data removed]"
          },
          "metadata": {
            "needs_background": "light"
          }
        }
      ]
    },
    {
      "cell_type": "code",
      "source": [
        "from datasist.structdata import detect_outliers\n",
        "# simply loop through each column and detect the outlier indexes then replace them with the mean value of column\n",
        "for col in df[['Temperature[C]','Humidity[%]','TVOC[ppb]','eCO2[ppm]', 'Raw H2', 'Raw Ethanol','Pressure[hPa]', 'PM1.0', 'PM2.5', 'NC0.5', 'NC1.0', 'NC2.5']]:\n",
        "    outliers_indices = detect_outliers(df, 0, [col])\n",
        "    df[col].iloc[outliers_indices] = df[col].mean()"
      ],
      "metadata": {
        "colab": {
          "base_uri": "https://localhost:8080/"
        },
        "id": "GVHfqPM4wSIQ",
        "outputId": "cf52c05f-b8d1-436b-9651-1653ef82ef0c"
      },
      "execution_count": 53,
      "outputs": [
        {
          "output_type": "stream",
          "name": "stderr",
          "text": [
            "/usr/local/lib/python3.7/dist-packages/pandas/core/indexing.py:1732: SettingWithCopyWarning: \n",
            "A value is trying to be set on a copy of a slice from a DataFrame\n",
            "\n",
            "See the caveats in the documentation: https://pandas.pydata.org/pandas-docs/stable/user_guide/indexing.html#returning-a-view-versus-a-copy\n",
            "  self._setitem_single_block(indexer, value, name)\n"
          ]
        }
      ]
    },
    {
      "cell_type": "code",
      "source": [
        "# updated boxplot after outlier replacement\n",
        "plt.figure(figsize=[15,8])\n",
        "sns.boxplot(data=df)"
      ],
      "metadata": {
        "colab": {
          "base_uri": "https://localhost:8080/",
          "height": 500
        },
        "id": "PGS6oClDwVH4",
        "outputId": "deb56be9-1cc8-42d3-d5dc-8b1d3fabad72"
      },
      "execution_count": 54,
      "outputs": [
        {
          "output_type": "execute_result",
          "data": {
            "text/plain": [
              "<matplotlib.axes._subplots.AxesSubplot at 0x7f6bb83f1fd0>"
            ]
          },
          "metadata": {},
          "execution_count": 54
        },
        {
          "output_type": "display_data",
          "data": {
            "text/plain": [
              "<Figure size 1080x576 with 1 Axes>"
            ],
            "image/png": "[encoded data removed]"
          },
          "metadata": {
            "needs_background": "light"
          }
        }
      ]
    },
    {
      "cell_type": "markdown",
      "source": [
        "### Gaussian & Multinomial Implementation"
      ],
      "metadata": {
        "id": "Qd4tY3G6K8la"
      }
    },
    {
      "cell_type": "code",
      "source": [
        "from sklearn.metrics import accuracy_score, roc_auc_score, f1_score\n",
        "from sklearn.model_selection import train_test_split\n",
        "from sklearn.naive_bayes import GaussianNB, MultinomialNB"
      ],
      "metadata": {
        "id": "335qljvvKr1X"
      },
      "execution_count": 55,
      "outputs": []
    },
    {
      "cell_type": "code",
      "source": [
        "#create results lists\n",
        "auc = []\n",
        "auc_mnb = []\n",
        "#make tamperature values all >0 by adding 273 (to make it K scale)\n",
        "df[\"Temperature[C]\"] += 273\n",
        "\n",
        "#Create layout for the two histograms to be side by side and adjust their size so labels are clear\n",
        "figure, axis = plt.subplots(1, 2)\n",
        "plt.rcParams[\"figure.figsize\"]=[16,8]\n",
        "\n",
        "#Set x and y-labels for both graphs\n",
        "axis[0].set_title(\"Accuracy scores\")\n",
        "axis[1].set_title(\"Area under curve\")\n",
        "avg_gnb_acc = []\n",
        "avg_gnb_auc = []\n",
        "avg_mnb_acc = []\n",
        "avg_mnb_auc = []\n",
        "x = []\n",
        "gnb_acc_avgs = []\n",
        "gnb_auc_avgs = []\n",
        "mnb_acc_avgs = []\n",
        "mnb_auc_avgs = []\n",
        "\n",
        "#create a loop to use different seed values\n",
        "for i in range(100):\n",
        "    #split data\n",
        "    df_train, df_test = train_test_split(df, test_size = 0.25, random_state=i)\n",
        "\n",
        "    #identify columns to be used in model and split into x and y\n",
        "    col_names = [\"Temperature[C]\", \"Humidity[%]\", \"TVOC[ppb]\", \"eCO2[ppm]\", \"Raw H2\", \"Raw Ethanol\", \"Pressure[hPa]\", \"PM1.0\", \"PM2.5\", \"NC0.5\", \"NC1.0\", \"NC2.5\"]\n",
        "    x_train = df_train[col_names].to_numpy()\n",
        "    y_train = df_train[\"Fire Alarm\"].to_numpy()\n",
        "\n",
        "    x_test = df_test[col_names].to_numpy()\n",
        "    y_test = df_test[\"Fire Alarm\"].to_numpy()\n",
        "\n",
        "    #create and fit Gaussian model\n",
        "    gnb_model = GaussianNB()\n",
        "    gnb_model.fit(x_train, y_train)\n",
        "\n",
        "    gnb_pred = gnb_model.predict(x_test)\n",
        "    gnb_prob = gnb_model.predict_proba(x_test)\n",
        "\n",
        "    #calculate and present accuracy score and auc\n",
        "    gnb_acc = accuracy_score(y_test, gnb_pred)\n",
        "    gnb_auc = roc_auc_score(y_test, gnb_prob[:,1])\n",
        "    avg_gnb_acc.append(gnb_acc)\n",
        "    avg_gnb_auc.append(gnb_auc)\n",
        "    auc.append([gnb_acc, gnb_auc, i])\n",
        "    \n",
        "    #create and fit Multinomial model\n",
        "    mnb_model = MultinomialNB()\n",
        "    mnb_model.fit(x_train, y_train)\n",
        "\n",
        "    mnb_pred = mnb_model.predict(x_test)\n",
        "    mnb_prob = mnb_model.predict_proba(x_test)\n",
        "\n",
        "    #calculate and present accuracy score and auc\n",
        "    mnb_acc = accuracy_score(y_test, mnb_pred)\n",
        "    mnb_auc = roc_auc_score(y_test, mnb_prob[:,1])\n",
        "    avg_mnb_acc.append(mnb_acc)\n",
        "    avg_mnb_auc.append(mnb_auc)\n",
        "    auc_mnb.append([mnb_acc, mnb_auc, i])\n",
        "    \n",
        "    #plot \n",
        "    if i % 10 ==0:\n",
        "        x.append(i)\n",
        "        gnb_acc_avgs.append(np.mean(avg_gnb_acc))\n",
        "        gnb_auc_avgs.append(np.mean(avg_gnb_auc))\n",
        "        mnb_acc_avgs.append(np.mean(avg_mnb_acc))\n",
        "        mnb_auc_avgs.append(np.mean(avg_mnb_auc))\n",
        "        avg_gnb_acc.clear()\n",
        "        avg_mnb_acc.clear()\n",
        "        avg_gnb_auc.clear()\n",
        "        avg_mnb_auc.clear()\n",
        "    else:\n",
        "        continue\n",
        "        \n",
        "axis[0].plot(x, gnb_acc_avgs, label='gnb')\n",
        "axis[0].plot(x, mnb_acc_avgs, label='mnb')\n",
        "axis[1].plot(x, gnb_auc_avgs, label='gnb')\n",
        "axis[1].plot(x, mnb_auc_avgs, label='mnb')\n",
        "axis[0].legend()\n",
        "axis[1].legend()\n",
        "    \n",
        "#convert matrix to pandas data frame and find maximum auc and the producing seed   \n",
        "auc_df = pd.DataFrame(auc)\n",
        "maximum = auc_df[1].max()\n",
        "for k in range(len(auc)):\n",
        "    if auc[k-1][1] == maximum:\n",
        "        best_gnb = auc[k-1][:]\n",
        "    else:\n",
        "        continue\n",
        "        \n",
        "auc_mnb_df = pd.DataFrame(auc_mnb)\n",
        "maximum = auc_mnb_df[1].max()\n",
        "for k in range(len(auc_mnb)):\n",
        "    if auc_mnb[k-1][1] == maximum:\n",
        "        best_mnb = auc_mnb[k-1][:]\n",
        "    else:\n",
        "        continue\n",
        "        \n",
        "plt.show()\n",
        "\n",
        "print(np.mean(gnb_acc_avgs))\n",
        "print(np.mean(mnb_acc_avgs))\n",
        "print(np.mean(gnb_auc_avgs))\n",
        "print(np.mean(mnb_auc_avgs))\n",
        "\n",
        "print(\"The best accuracy score of the Gaussian model is: \", best_gnb[0])\n",
        "print(\"The highest auc of the Gaussian model is: \", best_gnb[1])\n",
        "print(\"Produced using train test split seed: \", best_gnb[2])\n",
        "\n",
        "print(\"The best accuracy of the Multinomial model is: \", best_mnb[0])\n",
        "print(\"The highest auc of the Multinomial model is: \", best_mnb[1])\n",
        "print(\"Produced using train test split seed: \", best_mnb[2])"
      ],
      "metadata": {
        "colab": {
          "base_uri": "https://localhost:8080/",
          "height": 673
        },
        "id": "v0einMC0Ks0M",
        "outputId": "a31470c4-c012-4876-8d07-bc05ad45fa83"
      },
      "execution_count": 56,
      "outputs": [
        {
          "output_type": "display_data",
          "data": {
            "text/plain": [
              "<Figure size 1152x576 with 2 Axes>"
            ],
            "image/png": "[encoded data removed]"
          },
          "metadata": {
            "needs_background": "light"
          }
        },
        {
          "output_type": "stream",
          "name": "stdout",
          "text": [
            "0.834262357900115\n",
            "0.7547592285093881\n",
            "0.9136336253919654\n",
            "0.8458891588258203\n",
            "The best accuracy score of the Gaussian model is:  0.840209477583344\n",
            "The highest auc of the Gaussian model is:  0.921100920416352\n",
            "Produced using train test split seed:  32\n",
            "The best accuracy of the Multinomial model is:  0.7616553838293524\n",
            "The highest auc of the Multinomial model is:  0.8541615442786356\n",
            "Produced using train test split seed:  41\n"
          ]
        }
      ]
    },
    {
      "cell_type": "markdown",
      "source": [
        "## Features & Target Variables "
      ],
      "metadata": {
        "id": "QGRt6ur151Xg"
      }
    },
    {
      "cell_type": "code",
      "source": [
        "# Fire Alarm column as Target Variable\n",
        "Y = df.pop('Fire Alarm').to_numpy()\n",
        "# All other columns as Features\n",
        "X = df"
      ],
      "metadata": {
        "id": "5JTuyli5w_C_"
      },
      "execution_count": 57,
      "outputs": []
    },
    {
      "cell_type": "markdown",
      "source": [
        "### Scalling the data "
      ],
      "metadata": {
        "id": "2UoDO2c36Bdv"
      }
    },
    {
      "cell_type": "code",
      "source": [
        "from sklearn.preprocessing import StandardScaler\n",
        "from sklearn.model_selection import StratifiedShuffleSplit, train_test_split"
      ],
      "metadata": {
        "id": "q4OvodYRyKEz"
      },
      "execution_count": 58,
      "outputs": []
    },
    {
      "cell_type": "code",
      "source": [
        "# Different Columns have different value ranges \n",
        "# standardScaler convert all the columns value within fixed range\n",
        "scaler = StandardScaler()\n",
        "X_transformed = scaler.fit_transform(X)"
      ],
      "metadata": {
        "id": "A7xMVwV1yQGM"
      },
      "execution_count": 59,
      "outputs": []
    },
    {
      "cell_type": "markdown",
      "source": [
        "### Splitting the data"
      ],
      "metadata": {
        "id": "ByXKzzIo6IVt"
      }
    },
    {
      "cell_type": "code",
      "source": [
        "# stratified splitting to avoid biased algorithm output\n",
        "datasplit = StratifiedShuffleSplit(n_splits=3, test_size=0.2,random_state=123)\n",
        "for train, test in datasplit.split(X_transformed, Y):\n",
        "    X_train, Y_train = X_transformed[train], Y[train]\n",
        "    X_test, Y_test = X_transformed[test], Y[test]\n",
        "\n",
        "X_train, X_valid, Y_train, Y_valid = train_test_split(X_train, Y_train, test_size=0.2)"
      ],
      "metadata": {
        "id": "-s-ivE1Kyrk7"
      },
      "execution_count": 60,
      "outputs": []
    },
    {
      "cell_type": "markdown",
      "source": [
        "### KNN Algorithm Implementation"
      ],
      "metadata": {
        "id": "PKvxzIez6MLR"
      }
    },
    {
      "cell_type": "code",
      "source": [
        "from sklearn.neighbors import KNeighborsClassifier\n",
        "from sklearn.metrics import roc_auc_score"
      ],
      "metadata": {
        "id": "jdR0tohOzXyl"
      },
      "execution_count": 61,
      "outputs": []
    },
    {
      "cell_type": "code",
      "source": [
        "# create a knn classifier and fit the data \n",
        "knn = KNeighborsClassifier(n_neighbors=2)\n",
        "knn.fit(X_train, Y_train)"
      ],
      "metadata": {
        "id": "wUyo5KdSz-7Z",
        "colab": {
          "base_uri": "https://localhost:8080/"
        },
        "outputId": "03d63a9a-4ed3-454e-b23e-d837a9b65a2a"
      },
      "execution_count": 62,
      "outputs": [
        {
          "output_type": "execute_result",
          "data": {
            "text/plain": [
              "KNeighborsClassifier(n_neighbors=2)"
            ]
          },
          "metadata": {},
          "execution_count": 62
        }
      ]
    },
    {
      "cell_type": "markdown",
      "source": [
        "Algorithm Parameters"
      ],
      "metadata": {
        "id": "5HYa4bNl6TGg"
      }
    },
    {
      "cell_type": "code",
      "source": [
        "from sklearn.metrics import accuracy_score, f1_score, confusion_matrix, precision_score, recall_score, classification_report"
      ],
      "metadata": {
        "id": "wAXCZ08M2LFi"
      },
      "execution_count": 63,
      "outputs": []
    },
    {
      "cell_type": "code",
      "source": [
        "# parameters for algorithm analysis\n",
        "Y_true, Y_pred = Y_test, np.round(knn.predict(X_test))\n",
        "f1 = f1_score(Y_true, Y_pred)\n",
        "acc = accuracy_score(Y_true, Y_pred)\n",
        "precision = precision_score(Y_true, Y_pred)\n",
        "recall = recall_score(Y_true, Y_pred)\n",
        "Y_pred = knn.predict_proba(X_test)[:, 1]\n",
        "ROC_AUC = roc_auc_score(Y_test, Y_pred)\n",
        "\n",
        "print(f\"F1 Score : {f1}\")\n",
        "print(f\"Accuracy : {acc}\")\n",
        "print(f\"Precision : {precision}\")\n",
        "print(f\"Recall : {recall}\")\n",
        "print(f\"Area Under Curve: {ROC_AUC}\")"
      ],
      "metadata": {
        "colab": {
          "base_uri": "https://localhost:8080/"
        },
        "id": "i2YRDISQ1KiZ",
        "outputId": "970d8c22-4fc2-4f8f-c6df-976ed04e8deb"
      },
      "execution_count": 64,
      "outputs": [
        {
          "output_type": "stream",
          "name": "stdout",
          "text": [
            "F1 Score : 0.9997765363128492\n",
            "Accuracy : 0.9996806642184257\n",
            "Precision : 0.9998882556710247\n",
            "Recall : 0.9996648419171043\n",
            "Area Under Curve: 0.9998600929848835\n"
          ]
        }
      ]
    },
    {
      "cell_type": "markdown",
      "source": [
        "### Logistic Regression Implementation"
      ],
      "metadata": {
        "id": "8lP7gPUPlaUI"
      }
    },
    {
      "cell_type": "code",
      "source": [
        "from sklearn.linear_model import LogisticRegression"
      ],
      "metadata": {
        "id": "gfLS0oclk710"
      },
      "execution_count": null,
      "outputs": []
    },
    {
      "cell_type": "code",
      "source": [
        "logistec_classifier = LogisticRegression(random_state = 0)\n",
        "logistec_classifier.fit(X_train, Y_train)\n",
        "y_pred = logistec_classifier.predict(X_test)"
      ],
      "metadata": {
        "id": "rbDSBPkWlobY"
      },
      "execution_count": null,
      "outputs": []
    },
    {
      "cell_type": "markdown",
      "source": [
        "Algorithm Parameters"
      ],
      "metadata": {
        "id": "NqeVG31amjIt"
      }
    },
    {
      "cell_type": "code",
      "source": [
        "Y_true, Y_pred = Y_test, np.round(logistec_classifier.predict(X_test))\n",
        "f1 = f1_score(Y_true, Y_pred)\n",
        "acc = accuracy_score(Y_true, Y_pred)\n",
        "precision = precision_score(Y_true, Y_pred)\n",
        "recall = recall_score(Y_true, Y_pred)\n",
        "Y_pred = logistec_classifier.predict_proba(X_test)[:, 1]\n",
        "ROC_AUC = roc_auc_score(Y_test, Y_pred)\n",
        "\n",
        "print(f\"F1 Score : {f1}\")\n",
        "print(f\"Accuracy : {acc}\")\n",
        "print(f\"Precision : {precision}\")\n",
        "print(f\"Recall : {recall}\")\n",
        "print(f\"Area Under Curve: {ROC_AUC}\")"
      ],
      "metadata": {
        "colab": {
          "base_uri": "https://localhost:8080/"
        },
        "id": "JPrmw5N4mFLa",
        "outputId": "5643ab5e-7485-42bd-930b-7616dd4f1ee2"
      },
      "execution_count": null,
      "outputs": [
        {
          "output_type": "stream",
          "name": "stdout",
          "text": [
            "F1 Score : 0.9153493390882116\n",
            "Accuracy : 0.8747405396774709\n",
            "Precision : 0.8851210350584308\n",
            "Recall : 0.9477153390682606\n",
            "Area Under Curve: 0.9122842078042613\n"
          ]
        }
      ]
    },
    {
      "cell_type": "markdown",
      "source": [
        "### Neural Network Implementation"
      ],
      "metadata": {
        "id": "WQIaGkPpmfAd"
      }
    },
    {
      "cell_type": "code",
      "source": [
        "from keras.models import Sequential, load_model\n",
        "from keras.layers import Dense"
      ],
      "metadata": {
        "id": "perfynz7oCaD"
      },
      "execution_count": null,
      "outputs": []
    },
    {
      "cell_type": "code",
      "source": [
        "ann = Sequential([\n",
        "    Dense(16, activation='relu', input_shape=(12,), name=\"L1\"),\n",
        "    Dense(32, activation='relu', name=\"L2\"),\n",
        "    Dense(1, activation='sigmoid', name=\"Output\"),\n",
        "], name=\"Neural-V1\")\n",
        "\n",
        "ann.compile(optimizer=\"adam\",loss=\"binary_crossentropy\",metrics=['accuracy'])\n",
        "\n",
        "ann.fit(x=X_train,y=Y_train,validation_data=(X_test,Y_test),batch_size=20,epochs=10)"
      ],
      "metadata": {
        "colab": {
          "base_uri": "https://localhost:8080/"
        },
        "id": "H_IbFICtmU9F",
        "outputId": "f1063bb2-99d1-4d58-ec24-bb8e60648d31"
      },
      "execution_count": null,
      "outputs": [
        {
          "output_type": "stream",
          "name": "stdout",
          "text": [
            "Epoch 1/10\n",
            "2005/2005 [==============================] - 15s 7ms/step - loss: 0.1711 - accuracy: 0.9331 - val_loss: 0.0543 - val_accuracy: 0.9860\n",
            "Epoch 2/10\n",
            "2005/2005 [==============================] - 9s 5ms/step - loss: 0.0359 - accuracy: 0.9930 - val_loss: 0.0240 - val_accuracy: 0.9943\n",
            "Epoch 3/10\n",
            "2005/2005 [==============================] - 11s 5ms/step - loss: 0.0192 - accuracy: 0.9963 - val_loss: 0.0163 - val_accuracy: 0.9967\n",
            "Epoch 4/10\n",
            "2005/2005 [==============================] - 6s 3ms/step - loss: 0.0131 - accuracy: 0.9974 - val_loss: 0.0121 - val_accuracy: 0.9974\n",
            "Epoch 5/10\n",
            "2005/2005 [==============================] - 5s 3ms/step - loss: 0.0101 - accuracy: 0.9977 - val_loss: 0.0097 - val_accuracy: 0.9970\n",
            "Epoch 6/10\n",
            "2005/2005 [==============================] - 5s 3ms/step - loss: 0.0081 - accuracy: 0.9981 - val_loss: 0.0061 - val_accuracy: 0.9986\n",
            "Epoch 7/10\n",
            "2005/2005 [==============================] - 5s 2ms/step - loss: 0.0066 - accuracy: 0.9983 - val_loss: 0.0055 - val_accuracy: 0.9991\n",
            "Epoch 8/10\n",
            "2005/2005 [==============================] - 5s 3ms/step - loss: 0.0057 - accuracy: 0.9986 - val_loss: 0.0048 - val_accuracy: 0.9989\n",
            "Epoch 9/10\n",
            "2005/2005 [==============================] - 5s 2ms/step - loss: 0.0047 - accuracy: 0.9989 - val_loss: 0.0045 - val_accuracy: 0.9993\n",
            "Epoch 10/10\n",
            "2005/2005 [==============================] - 5s 2ms/step - loss: 0.0037 - accuracy: 0.9991 - val_loss: 0.0039 - val_accuracy: 0.9993\n"
          ]
        },
        {
          "output_type": "execute_result",
          "data": {
            "text/plain": [
              "<keras.callbacks.History at 0x7fcf232cea50>"
            ]
          },
          "metadata": {},
          "execution_count": 24
        }
      ]
    },
    {
      "cell_type": "markdown",
      "source": [
        "Algorithm Parameter"
      ],
      "metadata": {
        "id": "Sl3jugv2q7aJ"
      }
    },
    {
      "cell_type": "code",
      "source": [
        "Y_true, Y_pred = Y_test, np.round(ann.predict(X_test))\n",
        "f1 = f1_score(Y_true, Y_pred)\n",
        "acc = accuracy_score(Y_true, Y_pred)\n",
        "precision = precision_score(Y_true, Y_pred)\n",
        "recall = recall_score(Y_true, Y_pred)\n",
        "\n",
        "print(f\"F1 Score : {f1}\")\n",
        "print(f\"Accuracy : {acc}\")\n",
        "print(f\"Precision : {precision}\")\n",
        "print(f\"Recall : {recall}\")"
      ],
      "metadata": {
        "colab": {
          "base_uri": "https://localhost:8080/"
        },
        "id": "pM31qslApE02",
        "outputId": "0757cdc2-6b30-4d6a-86cd-8ec1f3057fda"
      },
      "execution_count": null,
      "outputs": [
        {
          "output_type": "stream",
          "name": "stdout",
          "text": [
            "392/392 [==============================] - 1s 3ms/step\n",
            "F1 Score : 0.9994972347913523\n",
            "Accuracy : 0.9992814944914578\n",
            "Precision : 0.9995530726256984\n",
            "Recall : 0.9994414031951737\n"
          ]
        }
      ]
    },
    {
      "cell_type": "markdown",
      "source": [
        "### Multiple Iteration With KNN to find Best possible result"
      ],
      "metadata": {
        "id": "pW1mxp-Bqx5c"
      }
    },
    {
      "cell_type": "code",
      "source": [
        "import random\n",
        "from prettytable import PrettyTable"
      ],
      "metadata": {
        "id": "Ddc8L6unrQdj"
      },
      "execution_count": null,
      "outputs": []
    },
    {
      "cell_type": "code",
      "source": [
        "def knn_iteration(x,y,k,size,id):\n",
        "  # stratified splitting to avoid biased algorithm output\n",
        "  datasplit = StratifiedShuffleSplit(n_splits=3, test_size=size,random_state=123)\n",
        "  for train, test in datasplit.split(x, y):\n",
        "      X_train, Y_train = x[train], y[train]\n",
        "      X_test, Y_test = x[test], y[test]\n",
        "\n",
        "  X_train, X_valid, Y_train, Y_valid = train_test_split(X_train, Y_train, test_size=size)\n",
        "\n",
        "  # create a knn classifier and fit the data \n",
        "  knn = KNeighborsClassifier(n_neighbors=k)\n",
        "  knn.fit(X_train, Y_train)\n",
        "  Y_true, Y_pred = Y_test, np.round(knn.predict(X_test))\n",
        "\n",
        "  f1 = f1_score(Y_true, Y_pred)\n",
        "  acc = accuracy_score(Y_true, Y_pred)\n",
        "  precision = precision_score(Y_true, Y_pred)\n",
        "  recall = recall_score(Y_true, Y_pred)\n",
        "  Y_pred = knn.predict_proba(X_test)[:, 1]\n",
        "  ROC_AUC = roc_auc_score(Y_test, Y_pred)\n",
        "\n",
        "  return [id+1,1-size,size,f1,acc,precision,recall,ROC_AUC]\n",
        "\n",
        "\n",
        "\n",
        "\n",
        "table_values = []\n",
        "\n",
        "for i in range(20):\n",
        "  size = random.uniform(0.2,0.4) \n",
        "  table_values.append(knn_iteration(X_transformed, Y,2,size,i))\n",
        "\n",
        "table = PrettyTable()\n",
        "\n",
        "table.field_names = [\"Record No:\", \"Train Data Percentage\",\"Test Data Percentage\",\"F1 Score\",\"Accuracy\",\"Precision\",\"Recall\",\"AUC Value\"]\n",
        "\n",
        "for row in table_values:\n",
        "    table.add_row(row)\n",
        "\n",
        "print(table)"
      ],
      "metadata": {
        "colab": {
          "base_uri": "https://localhost:8080/"
        },
        "id": "VdXsVPK_qw6M",
        "outputId": "045f2bde-29c4-46ea-f70a-b4725bc48fc0"
      },
      "execution_count": null,
      "outputs": [
        {
          "output_type": "stream",
          "name": "stdout",
          "text": [
            "+------------+-----------------------+----------------------+--------------------+--------------------+--------------------+--------------------+--------------------+\n",
            "| Record No: | Train Data Percentage | Test Data Percentage |      F1 Score      |      Accuracy      |     Precision      |       Recall       |     AUC Value      |\n",
            "+------------+-----------------------+----------------------+--------------------+--------------------+--------------------+--------------------+--------------------+\n",
            "|     1      |   0.6203409217863514  |  0.3796590782136487  | 0.9997057611957865 | 0.9995794608688339 | 0.9997057611957865 | 0.9997057611957865 | 0.9996313343010867 |\n",
            "|     2      |   0.7931480969519156  |  0.2068519030480844  | 0.9996218873224221 | 0.9994597097869713 | 0.9998919386211368 | 0.9993519818554919 | 0.9998646675658447 |\n",
            "|     3      |   0.7200241206697122  |  0.2799758793302877  | 0.9994412515964239 | 0.9992015968063872 | 0.9996806387225549 | 0.9992019790918522 | 0.9994799946492411 |\n",
            "|     4      |   0.6530755986392947  |  0.3469244013607054  | 0.9994846688997681 | 0.9992636229749632 | 0.9996778558082597 | 0.9992915566432665 | 0.9995318017284622 |\n",
            "|     5      |   0.7044791348619237  | 0.29552086513807635  | 0.9996219853330309 | 0.9994597222972608 | 0.9996219853330309 | 0.9996219853330309 | 0.9995263008177455 |\n",
            "|     6      |   0.6294416314895817  | 0.37055836851041835  | 0.9992159227985524 | 0.9988797449265371 | 0.999577651743695  | 0.9988544555649342 | 0.9992899030067416 |\n",
            "|     7      |   0.7933551203366285  |  0.2066448796633715  | 0.9994591671173608 | 0.9992273815962296 | 0.9998917866031815 | 0.999026921829387  | 0.9998645136602368 |\n",
            "|     8      |   0.6730720503722919  |  0.3269279496277081  | 0.9995215965008201 | 0.9993162727095136 | 0.9995899118310436 | 0.9994532905077564 | 0.999417735209613  |\n",
            "|     9      |   0.6303102082145973  | 0.36968979178540273  | 0.9995164117753733 | 0.9993089746911981 | 0.9996977025392987 | 0.9993351867520851 | 0.9995000318650858 |\n",
            "|     10     |   0.7122863415161913  | 0.28771365848380875  | 0.999650580424739  | 0.9995005549389567 | 0.9996117711002407 | 0.9996893927628514 | 0.9994359899312998 |\n",
            "|     11     |   0.6598849156844617  |  0.3401150843155383  | 0.9995072111435988 | 0.9992958407661252 | 0.9997371188222923 | 0.9992774091834724 | 0.9995391104859394 |\n",
            "|     12     |   0.6594813834671531  |  0.3405186165328469  | 0.9995078578693527 | 0.9992966661977775 | 0.9996062475390471 | 0.9994094875664327 | 0.9994083555730503 |\n",
            "|     13     |   0.7428164161696469  |  0.2571835838303531  | 0.9997393570807993 | 0.9996275142786193 | 0.9998262229559475 | 0.9996525062983234 | 0.9997823912347832 |\n",
            "|     14     |   0.7878816211082955  |  0.2121183788917045  | 0.9996312490122741 | 0.9994730899510726 | 0.9998946148171567 | 0.9993680219085739 | 0.9998152910247163 |\n",
            "|     15     |   0.7850791690870021  | 0.21492083091299788  | 0.9995840698762609 | 0.9994056905133348 | 0.9998959850218432 | 0.9992723492723493 | 0.9998693519586516 |\n",
            "|     16     |   0.6581028717473509  | 0.34189712825264906  | 0.9996405816043129 | 0.9994863173624732 | 0.9996732453274082 | 0.9996079200156832 | 0.9995252876565819 |\n",
            "|     17     |   0.6144323933340698  | 0.38556760666593015  | 0.9997972013790306 | 0.9997101329247587 | 0.9997103128621089 | 0.9998841050008692 | 0.999637151288814  |\n",
            "|     18     |   0.6393059754675665  | 0.36069402453243354  | 0.9994423446310181 | 0.9992032225222434 | 0.999752076360481  | 0.9991328047571854 | 0.9995343454204544 |\n",
            "|     19     |   0.7150336743933472  |  0.2849663256066528  | 0.9995687796463993 | 0.9993836844464365 | 0.9996079661282735 | 0.9995295962367698 | 0.999430344706453  |\n",
            "|     20     |   0.635212889945813   | 0.36478711005418696  | 0.9996937400465514 | 0.9995623057731868 | 0.9997549770290964 | 0.9996325105653212 | 0.9996624207483483 |\n",
            "+------------+-----------------------+----------------------+--------------------+--------------------+--------------------+--------------------+--------------------+\n"
          ]
        }
      ]
    },
    {
      "cell_type": "code",
      "source": [
        "  "
      ],
      "metadata": {
        "id": "VNd-UN27-DUm"
      },
      "execution_count": null,
      "outputs": []
    },
    {
      "cell_type": "code",
      "source": [
        "training_data = [item[1] for item in table_values]\n",
        "f1_score = [item[3] for item in table_values]\n",
        "accuracy = [item[4] for item in table_values]\n",
        "precision = [item[5] for item in table_values]\n",
        "recall = [item[6] for item in table_values]\n",
        "\n",
        "figure, axis = plt.subplots(2, 2)\n",
        "\n",
        "\n",
        "axis[0, 0].plot(training_data, f1_score, color='red', marker='o',label='F1 Score')\n",
        "axis[0, 0].set_title(\"F1 Score\")\n",
        "\n",
        "axis[0, 1].plot(training_data, accuracy, color='yellow', marker='o',label='Accuracy')\n",
        "axis[0, 1].set_title(\"Accuracy\")\n",
        "  \n",
        "axis[1, 0].plot(training_data, precision, color='green', marker='o',label='Precision')\n",
        "axis[1, 0].set_title(\"Precision\")\n",
        "\n",
        "axis[1, 1].plot(training_data, recall, color='blue', marker='o',label='Recall')\n",
        "axis[1, 1].set_title(\"Recall\")\n",
        "\n",
        "\n",
        "\n",
        "plt.grid(True)\n",
        "plt.tight_layout()\n",
        "# Combine all the operations and display\n",
        "plt.show()\n",
        "\n"
      ],
      "metadata": {
        "colab": {
          "base_uri": "https://localhost:8080/",
          "height": 297
        },
        "id": "ul1pk1dMPqZt",
        "outputId": "0b06a39f-20ab-4f27-a913-5c507260248b"
      },
      "execution_count": null,
      "outputs": [
        {
          "output_type": "display_data",
          "data": {
            "text/plain": [
              "<Figure size 432x288 with 4 Axes>"
            ],
            "image/png": "[encoded data removed]"
          },
          "metadata": {
            "needs_background": "light"
          }
        }
      ]
    },
    {
      "cell_type": "markdown",
      "source": [
        "## Algorithm Comparison"
      ],
      "metadata": {
        "id": "7k2qQz4auXRz"
      }
    },
    {
      "cell_type": "markdown",
      "source": [
        "Logistic Regression Provides an acuracy of 87% which is quite less than other two algorithms KNN and ANN which both provides an accuracy higher than 99%. lets compare both of them:"
      ],
      "metadata": {
        "id": "hksrDlzwyLD4"
      }
    },
    {
      "cell_type": "markdown",
      "source": [
        "### **Time Complexity**"
      ],
      "metadata": {
        "id": "La0xImJzubBx"
      }
    },
    {
      "cell_type": "code",
      "source": [
        "len(X_train)"
      ],
      "metadata": {
        "colab": {
          "base_uri": "https://localhost:8080/"
        },
        "id": "zv86z3mru0ka",
        "outputId": "61a327bc-e93b-41e7-b340-e847aa7c18aa"
      },
      "execution_count": null,
      "outputs": [
        {
          "output_type": "execute_result",
          "data": {
            "text/plain": [
              "40083"
            ]
          },
          "metadata": {},
          "execution_count": 37
        }
      ]
    },
    {
      "cell_type": "markdown",
      "source": [
        "**KNN Algorithm:**\n",
        "Complexity: O(nd)  \n",
        "* n is the total number of data-points in the training data   \n",
        "* d is the total number of features in the dataset  \n",
        "\n",
        "In this scenario number of datapoints are 40083 while features are 12 so maximum iteration for KNN algorithm is\n",
        "40083*12 = 480996\n"
      ],
      "metadata": {
        "id": "v1zeS0xbuoWZ"
      }
    },
    {
      "cell_type": "markdown",
      "source": [
        "**ANN Algorithm:** Complexity: O(n∗t∗(ij+jk))  \n",
        "We are working with three layers ANN algorithms with  \n",
        "* First layer specified as i  \n",
        "* Second layer as j  \n",
        "* Output layor as k  \n",
        "* n is number of epochs\n",
        "*  t is number of training examples  \n",
        "In this scenario number of training examples are 40083 while n is 10 and i,j,k are 16,32 and 1 respectively. so maximum iterations to compile ANN algorithm result are   \n",
        "(40083x10x(16x32+32x1)) =  218,051,520\n"
      ],
      "metadata": {
        "id": "nkd0QQnhvRuS"
      }
    },
    {
      "cell_type": "markdown",
      "source": [
        "With respect to time complexity ANN takes more time than KNN algorithm to compile the result"
      ],
      "metadata": {
        "id": "wwyYCA_LyikI"
      }
    },
    {
      "cell_type": "markdown",
      "source": [
        "### **Bias-Variance Trade0ff**"
      ],
      "metadata": {
        "id": "uvPjSZ1zvN-1"
      }
    },
    {
      "cell_type": "code",
      "source": [
        "%pip install mlxtend --upgrade"
      ],
      "metadata": {
        "colab": {
          "base_uri": "https://localhost:8080/"
        },
        "id": "c4mRW0LF0chO",
        "outputId": "1ecd0561-4b86-486f-c7e9-f6be195a7b36"
      },
      "execution_count": null,
      "outputs": [
        {
          "output_type": "stream",
          "name": "stdout",
          "text": [
            "Looking in indexes: https://pypi.org/simple, https://us-python.pkg.dev/colab-wheels/public/simple/\n",
            "Requirement already satisfied: mlxtend in /usr/local/lib/python3.7/dist-packages (0.14.0)\n",
            "Collecting mlxtend\n",
            "  Downloading mlxtend-0.21.0-py2.py3-none-any.whl (1.3 MB)\n",
            "\u001b[K     |████████████████████████████████| 1.3 MB 8.5 MB/s \n",
            "\u001b[?25hRequirement already satisfied: pandas>=0.24.2 in /usr/local/lib/python3.7/dist-packages (from mlxtend) (1.3.5)\n",
            "Requirement already satisfied: scipy>=1.2.1 in /usr/local/lib/python3.7/dist-packages (from mlxtend) (1.7.3)\n",
            "Requirement already satisfied: matplotlib>=3.0.0 in /usr/local/lib/python3.7/dist-packages (from mlxtend) (3.2.2)\n",
            "Requirement already satisfied: setuptools in /usr/local/lib/python3.7/dist-packages (from mlxtend) (57.4.0)\n",
            "Requirement already satisfied: numpy>=1.16.2 in /usr/local/lib/python3.7/dist-packages (from mlxtend) (1.21.6)\n",
            "Requirement already satisfied: scikit-learn>=1.0.2 in /usr/local/lib/python3.7/dist-packages (from mlxtend) (1.0.2)\n",
            "Requirement already satisfied: joblib>=0.13.2 in /usr/local/lib/python3.7/dist-packages (from mlxtend) (1.2.0)\n",
            "Requirement already satisfied: cycler>=0.10 in /usr/local/lib/python3.7/dist-packages (from matplotlib>=3.0.0->mlxtend) (0.11.0)\n",
            "Requirement already satisfied: pyparsing!=2.0.4,!=2.1.2,!=2.1.6,>=2.0.1 in /usr/local/lib/python3.7/dist-packages (from matplotlib>=3.0.0->mlxtend) (3.0.9)\n",
            "Requirement already satisfied: python-dateutil>=2.1 in /usr/local/lib/python3.7/dist-packages (from matplotlib>=3.0.0->mlxtend) (2.8.2)\n",
            "Requirement already satisfied: kiwisolver>=1.0.1 in /usr/local/lib/python3.7/dist-packages (from matplotlib>=3.0.0->mlxtend) (1.4.4)\n",
            "Requirement already satisfied: typing-extensions in /usr/local/lib/python3.7/dist-packages (from kiwisolver>=1.0.1->matplotlib>=3.0.0->mlxtend) (4.1.1)\n",
            "Requirement already satisfied: pytz>=2017.3 in /usr/local/lib/python3.7/dist-packages (from pandas>=0.24.2->mlxtend) (2022.4)\n",
            "Requirement already satisfied: six>=1.5 in /usr/local/lib/python3.7/dist-packages (from python-dateutil>=2.1->matplotlib>=3.0.0->mlxtend) (1.15.0)\n",
            "Requirement already satisfied: threadpoolctl>=2.0.0 in /usr/local/lib/python3.7/dist-packages (from scikit-learn>=1.0.2->mlxtend) (3.1.0)\n",
            "Installing collected packages: mlxtend\n",
            "  Attempting uninstall: mlxtend\n",
            "    Found existing installation: mlxtend 0.14.0\n",
            "    Uninstalling mlxtend-0.14.0:\n",
            "      Successfully uninstalled mlxtend-0.14.0\n",
            "Successfully installed mlxtend-0.21.0\n"
          ]
        }
      ]
    },
    {
      "cell_type": "code",
      "source": [
        "pred = ann.predict(X_test)\n",
        "varience = np.var(pred)\n",
        "SSE = np.mean( np.mean(pred) - Y )**2\n",
        "Bias = SSE - varience\n",
        "\n",
        "\n",
        "print(\"ANN Algorithm:\")\n",
        "print('Bias: %.3f' % Bias)\n",
        "print('Variance: %.3f' % varience)\n",
        "\n",
        "\n",
        "pred = knn.predict(X_test)\n",
        "varience = np.var(pred)\n",
        "SSE = np.mean( np.mean(pred) - Y )**2\n",
        "Bias = SSE - varience\n",
        "\n",
        "\n",
        "print(\"\\nKNN Algorithm:\")\n",
        "print('Bias: %.3f' % Bias)\n",
        "print('Variance: %.3f' % varience)\n"
      ],
      "metadata": {
        "colab": {
          "base_uri": "https://localhost:8080/"
        },
        "id": "aECVOmcruWm3",
        "outputId": "5c0e79a1-f3be-4f31-934e-daab68a1a0fb"
      },
      "execution_count": null,
      "outputs": [
        {
          "output_type": "stream",
          "name": "stdout",
          "text": [
            "392/392 [==============================] - 1s 1ms/step\n",
            "ANN Algorithm:\n",
            "Bias: -0.203\n",
            "Variance: 0.203\n",
            "\n",
            "KNN Algorithm:\n",
            "Bias: -0.204\n",
            "Variance: 0.204\n"
          ]
        }
      ]
    },
    {
      "cell_type": "markdown",
      "source": [
        "Both the models have high varience and low biase. A model with high variance may represent the data set accurately but could lead to overfitting to noisy or otherwise unrepresentative training data. \n",
        "\n",
        "As per the result KNN have little high varience than bias."
      ],
      "metadata": {
        "id": "hEqcjcIsCmbu"
      }
    }
  ]
}